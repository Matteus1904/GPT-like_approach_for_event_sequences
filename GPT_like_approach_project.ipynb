{
  "cells": [
    {
      "cell_type": "markdown",
      "id": "8a795c70",
      "metadata": {
        "id": "8a795c70"
      },
      "source": [
        "# Colab setup"
      ]
    },
    {
      "cell_type": "code",
      "execution_count": 1,
      "id": "8b6cedd5",
      "metadata": {
        "id": "8b6cedd5"
      },
      "outputs": [],
      "source": [
        "if 'google.colab' in str(get_ipython()):\n",
        "    !pip install pytorch-lifestream\n",
        "    !wget https://raw.githubusercontent.com/Matteus1904/GPT-like_approach_for_event_sequences/master/models.py\n",
        "    !wget https://raw.githubusercontent.com/Matteus1904/GPT-like_approach_for_event_sequences/master/dataset.py"
      ]
    },
    {
      "cell_type": "markdown",
      "id": "a7431993",
      "metadata": {
        "id": "a7431993"
      },
      "source": [
        "## Data load"
      ]
    },
    {
      "cell_type": "code",
      "execution_count": 3,
      "id": "86d984d6",
      "metadata": {},
      "outputs": [],
      "source": [
        "import os\n",
        "\n",
        "if not os.path.exists('data/rosbank/train.csv'):\n",
        "    !mkdir -p data/rosbank\n",
        "    !curl -OL https://storage.yandexcloud.net/di-datasets/rosbank-ml-contest-boosters.pro.zip\n",
        "    !unzip -j -o rosbank-ml-contest-boosters.pro.zip '*.csv' -d data/rosbank\n",
        "    !mv rosbank-ml-contest-boosters.pro.zip data/rosbank/"
      ]
    },
    {
      "cell_type": "markdown",
      "id": "9e91a902",
      "metadata": {
        "id": "9e91a902"
      },
      "source": [
        "## Setup"
      ]
    },
    {
      "cell_type": "code",
      "execution_count": 1,
      "id": "587df1ea",
      "metadata": {
        "execution": {
          "iopub.execute_input": "2022-05-04T18:11:04.590559Z",
          "iopub.status.busy": "2022-05-04T18:11:04.590097Z",
          "iopub.status.idle": "2022-05-04T18:11:06.256016Z",
          "shell.execute_reply": "2022-05-04T18:11:06.255464Z"
        },
        "id": "587df1ea"
      },
      "outputs": [],
      "source": [
        "%load_ext autoreload\n",
        "%autoreload 2\n",
        "\n",
        "import torch\n",
        "import torch.nn as nn\n",
        "import pytorch_lightning as pl\n",
        "\n",
        "from sklearn.metrics import f1_score\n",
        "from sklearn.preprocessing import KBinsDiscretizer\n",
        "from sklearn.model_selection import train_test_split\n",
        "\n",
        "from ptls.nn import TrxEncoder, RnnEncoder\n",
        "from ptls.frames.gpt import GptPretrainModule, GptDataset\n",
        "from ptls.preprocessing import PandasDataPreprocessor\n",
        "from ptls.data_load.datasets import MemoryMapDataset\n",
        "from ptls.data_load.iterable_processing import SeqLenFilter\n",
        "from ptls.frames import PtlsDataModule\n",
        "\n",
        "from dataset import MlmNoSliceDataset\n",
        "from models import GptPretrainContrastiveModule, NextItemPredictionModule\n",
        "\n",
        "import os\n",
        "import pandas as pd"
      ]
    },
    {
      "cell_type": "markdown",
      "id": "82f989bc",
      "metadata": {
        "id": "82f989bc"
      },
      "source": [
        "## Data preproccessing"
      ]
    },
    {
      "cell_type": "code",
      "execution_count": 2,
      "id": "7e06bd27",
      "metadata": {
        "colab": {
          "base_uri": "https://localhost:8080/",
          "height": 112
        },
        "execution": {
          "iopub.execute_input": "2022-05-04T18:11:06.260046Z",
          "iopub.status.busy": "2022-05-04T18:11:06.259544Z",
          "iopub.status.idle": "2022-05-04T18:11:12.319460Z",
          "shell.execute_reply": "2022-05-04T18:11:12.317693Z"
        },
        "id": "7e06bd27",
        "outputId": "b070264a-4f29-4087-9214-6f5bf34af76f"
      },
      "outputs": [
        {
          "data": {
            "text/html": [
              "<div>\n",
              "<style scoped>\n",
              "    .dataframe tbody tr th:only-of-type {\n",
              "        vertical-align: middle;\n",
              "    }\n",
              "\n",
              "    .dataframe tbody tr th {\n",
              "        vertical-align: top;\n",
              "    }\n",
              "\n",
              "    .dataframe thead th {\n",
              "        text-align: right;\n",
              "    }\n",
              "</style>\n",
              "<table border=\"1\" class=\"dataframe\">\n",
              "  <thead>\n",
              "    <tr style=\"text-align: right;\">\n",
              "      <th></th>\n",
              "      <th>PERIOD</th>\n",
              "      <th>client_id</th>\n",
              "      <th>small_group</th>\n",
              "      <th>channel_type</th>\n",
              "      <th>currency</th>\n",
              "      <th>TRDATETIME</th>\n",
              "      <th>amount_rur</th>\n",
              "      <th>trx_category</th>\n",
              "      <th>target_flag</th>\n",
              "      <th>target_sum</th>\n",
              "    </tr>\n",
              "  </thead>\n",
              "  <tbody>\n",
              "    <tr>\n",
              "      <th>26790</th>\n",
              "      <td>01/10/2016</td>\n",
              "      <td>485</td>\n",
              "      <td>4121</td>\n",
              "      <td>type2</td>\n",
              "      <td>810</td>\n",
              "      <td>2016-10-07 00:00:00</td>\n",
              "      <td>242.0</td>\n",
              "      <td>POS</td>\n",
              "      <td>1</td>\n",
              "      <td>85.00</td>\n",
              "    </tr>\n",
              "    <tr>\n",
              "      <th>72077</th>\n",
              "      <td>01/10/2016</td>\n",
              "      <td>1290</td>\n",
              "      <td>5411</td>\n",
              "      <td>type2</td>\n",
              "      <td>810</td>\n",
              "      <td>2016-10-07 00:00:00</td>\n",
              "      <td>2465.0</td>\n",
              "      <td>POS</td>\n",
              "      <td>1</td>\n",
              "      <td>321242.09</td>\n",
              "    </tr>\n",
              "    <tr>\n",
              "      <th>26988</th>\n",
              "      <td>01/10/2016</td>\n",
              "      <td>485</td>\n",
              "      <td>6011</td>\n",
              "      <td>type2</td>\n",
              "      <td>810</td>\n",
              "      <td>2016-10-07 00:00:00</td>\n",
              "      <td>3600.0</td>\n",
              "      <td>WD_ATM_PARTNER</td>\n",
              "      <td>1</td>\n",
              "      <td>85.00</td>\n",
              "    </tr>\n",
              "    <tr>\n",
              "      <th>72068</th>\n",
              "      <td>01/10/2016</td>\n",
              "      <td>1290</td>\n",
              "      <td>6011</td>\n",
              "      <td>type2</td>\n",
              "      <td>810</td>\n",
              "      <td>2016-10-07 18:57:17</td>\n",
              "      <td>10000.0</td>\n",
              "      <td>WD_ATM_ROS</td>\n",
              "      <td>1</td>\n",
              "      <td>321242.09</td>\n",
              "    </tr>\n",
              "    <tr>\n",
              "      <th>189585</th>\n",
              "      <td>01/10/2016</td>\n",
              "      <td>3351</td>\n",
              "      <td>8999</td>\n",
              "      <td>type3</td>\n",
              "      <td>810</td>\n",
              "      <td>2016-10-08 00:00:00</td>\n",
              "      <td>10000.0</td>\n",
              "      <td>POS</td>\n",
              "      <td>0</td>\n",
              "      <td>0.00</td>\n",
              "    </tr>\n",
              "  </tbody>\n",
              "</table>\n",
              "</div>"
            ],
            "text/plain": [
              "            PERIOD  client_id  small_group channel_type  currency  \\\n",
              "26790   01/10/2016        485         4121        type2       810   \n",
              "72077   01/10/2016       1290         5411        type2       810   \n",
              "26988   01/10/2016        485         6011        type2       810   \n",
              "72068   01/10/2016       1290         6011        type2       810   \n",
              "189585  01/10/2016       3351         8999        type3       810   \n",
              "\n",
              "                TRDATETIME  amount_rur    trx_category  target_flag  \\\n",
              "26790  2016-10-07 00:00:00       242.0             POS            1   \n",
              "72077  2016-10-07 00:00:00      2465.0             POS            1   \n",
              "26988  2016-10-07 00:00:00      3600.0  WD_ATM_PARTNER            1   \n",
              "72068  2016-10-07 18:57:17     10000.0      WD_ATM_ROS            1   \n",
              "189585 2016-10-08 00:00:00     10000.0             POS            0   \n",
              "\n",
              "        target_sum  \n",
              "26790        85.00  \n",
              "72077    321242.09  \n",
              "26988        85.00  \n",
              "72068    321242.09  \n",
              "189585        0.00  "
            ]
          },
          "execution_count": 2,
          "metadata": {},
          "output_type": "execute_result"
        }
      ],
      "source": [
        "data_path = 'data/rosbank'\n",
        "\n",
        "source_data = pd.read_csv(os.path.join(data_path, 'train.csv'))\n",
        "source_data['TRDATETIME'] = pd.to_datetime(source_data['TRDATETIME'], format='%d%b%y:%H:%M:%S')\n",
        "source_data = source_data.sort_values(by=['TRDATETIME'])\n",
        "source_data = source_data.rename(columns={'cl_id':'client_id', 'MCC':'small_group', 'amount':'amount_rur'})\n",
        "source_data.head()"
      ]
    },
    {
      "cell_type": "code",
      "execution_count": 3,
      "id": "6735f933",
      "metadata": {},
      "outputs": [],
      "source": [
        "mcc_to_id = {mcc: i+1 for i, mcc in enumerate(source_data['small_group'].unique())}\n",
        "\n",
        "source_data['amount_rur_bin'] = 1 + KBinsDiscretizer(10, encode='ordinal', subsample=None).fit_transform(source_data[['amount_rur']]).astype('int')\n",
        "source_data['small_group'] = source_data['small_group'].map(mcc_to_id)"
      ]
    },
    {
      "cell_type": "code",
      "execution_count": 4,
      "id": "8615b722",
      "metadata": {
        "execution": {
          "iopub.execute_input": "2022-05-04T18:11:12.324005Z",
          "iopub.status.busy": "2022-05-04T18:11:12.323387Z",
          "iopub.status.idle": "2022-05-04T18:11:12.376973Z",
          "shell.execute_reply": "2022-05-04T18:11:12.376546Z"
        },
        "id": "8615b722"
      },
      "outputs": [],
      "source": [
        "preprocessor = PandasDataPreprocessor(\n",
        "    col_id='client_id',\n",
        "    col_event_time='TRDATETIME',\n",
        "    event_time_transformation='dt_to_timestamp',\n",
        "    cols_category=['small_group'],\n",
        "    cols_numerical=['amount_rur_bin'],\n",
        "    return_records=True,\n",
        ")"
      ]
    },
    {
      "cell_type": "code",
      "execution_count": 5,
      "id": "fca72f6e",
      "metadata": {
        "colab": {
          "base_uri": "https://localhost:8080/"
        },
        "execution": {
          "iopub.execute_input": "2022-05-04T18:11:12.380482Z",
          "iopub.status.busy": "2022-05-04T18:11:12.380011Z",
          "iopub.status.idle": "2022-05-04T18:12:29.766372Z",
          "shell.execute_reply": "2022-05-04T18:12:29.766793Z"
        },
        "id": "fca72f6e",
        "outputId": "725b7379-aa49-4fc5-8a41-ca8979888ef1"
      },
      "outputs": [
        {
          "name": "stdout",
          "output_type": "stream",
          "text": [
            "CPU times: total: 1.81 s\n",
            "Wall time: 1.93 s\n"
          ]
        }
      ],
      "source": [
        "%%time\n",
        "\n",
        "dataset = preprocessor.fit_transform(source_data[['client_id', 'TRDATETIME', 'small_group', 'amount_rur_bin']])"
      ]
    },
    {
      "cell_type": "code",
      "execution_count": 6,
      "id": "0e4ca12d",
      "metadata": {
        "id": "0e4ca12d"
      },
      "outputs": [],
      "source": [
        "dataset = sorted(dataset, key=lambda x: x['client_id'])"
      ]
    },
    {
      "cell_type": "code",
      "execution_count": 7,
      "id": "98e7d39d",
      "metadata": {
        "colab": {
          "base_uri": "https://localhost:8080/"
        },
        "execution": {
          "iopub.execute_input": "2022-05-04T18:12:29.770820Z",
          "iopub.status.busy": "2022-05-04T18:12:29.770330Z",
          "iopub.status.idle": "2022-05-04T18:12:30.164858Z",
          "shell.execute_reply": "2022-05-04T18:12:30.165297Z"
        },
        "id": "98e7d39d",
        "outputId": "85da48c1-2992-4a08-e89e-68dda424f8d4"
      },
      "outputs": [
        {
          "data": {
            "text/plain": [
              "(4000, 500, 500)"
            ]
          },
          "execution_count": 7,
          "metadata": {},
          "output_type": "execute_result"
        }
      ],
      "source": [
        "train, valid_test = train_test_split(dataset, test_size=0.2, random_state=42)\n",
        "\n",
        "valid, test = train_test_split(valid_test, test_size=0.5, random_state=42)\n",
        "len(train), len(valid), len(test)"
      ]
    },
    {
      "cell_type": "code",
      "execution_count": 8,
      "id": "c7184c74",
      "metadata": {},
      "outputs": [
        {
          "data": {
            "text/plain": [
              "0.09109194206711545"
            ]
          },
          "execution_count": 8,
          "metadata": {},
          "output_type": "execute_result"
        }
      ],
      "source": [
        "# popular predictor\n",
        "\n",
        "train_clients = [d[\"client_id\"] for d in train]\n",
        "test_clients = [d[\"client_id\"] for d in test]\n",
        "\n",
        "train_data = source_data[source_data[\"client_id\"].isin(train_clients)]\n",
        "test_data = source_data[source_data[\"client_id\"].isin(test_clients)]\n",
        "\n",
        "most_pop_mcc = train_data[\"small_group\"].value_counts().index[0]\n",
        "\n",
        "y_true = test_data[\"small_group\"]\n",
        "y_pred = [most_pop_mcc]*test_data.shape[0]\n",
        "\n",
        "f1_score(y_true, y_pred, average=\"weighted\")"
      ]
    },
    {
      "cell_type": "code",
      "execution_count": 9,
      "id": "5ba4b6fc",
      "metadata": {},
      "outputs": [
        {
          "data": {
            "text/plain": [
              "0.2374830911817028"
            ]
          },
          "execution_count": 9,
          "metadata": {},
          "output_type": "execute_result"
        }
      ],
      "source": [
        "# naive predictor\n",
        "\n",
        "y_true = test_data.groupby(\"client_id\").apply(lambda x: x[\"small_group\"]).reset_index()[\"small_group\"].rename(\"y_true\")\n",
        "y_pred = test_data.groupby(\"client_id\").apply(lambda x: x[\"small_group\"].shift()).reset_index()[\"small_group\"].rename(\"y_pred\")\n",
        "\n",
        "y_concat = pd.concat([y_true, y_pred], axis=1).dropna()\n",
        "\n",
        "f1_score(y_concat[\"y_true\"], y_concat[\"y_pred\"], average=\"weighted\")"
      ]
    },
    {
      "cell_type": "code",
      "execution_count": 10,
      "id": "5af110e1",
      "metadata": {
        "colab": {
          "base_uri": "https://localhost:8080/"
        },
        "id": "5af110e1",
        "outputId": "698da14d-523c-4326-faf5-1640c4b75664"
      },
      "outputs": [],
      "source": [
        "train_dl = PtlsDataModule(\n",
        "    train_data=GptDataset(\n",
        "        MemoryMapDataset(\n",
        "            data=train,\n",
        "            # i_filters=[\n",
        "            #     SeqLenFilter(min_seq_len=25),\n",
        "            # ],\n",
        "        ),\n",
        "        min_len=25, \n",
        "        max_len=200\n",
        "    ),\n",
        "    valid_data=MlmNoSliceDataset(\n",
        "        MemoryMapDataset(\n",
        "            data=valid,\n",
        "            # i_filters=[\n",
        "            #     SeqLenFilter(min_seq_len=25),\n",
        "            # ],\n",
        "        ),\n",
        "    ),\n",
        "    test_data=MlmNoSliceDataset(\n",
        "        MemoryMapDataset(\n",
        "            data=test,\n",
        "            # i_filters=[\n",
        "            #     SeqLenFilter(min_seq_len=25),\n",
        "            # ],\n",
        "        ),\n",
        "    ),\n",
        "    train_batch_size=128,\n",
        ")"
      ]
    },
    {
      "attachments": {},
      "cell_type": "markdown",
      "id": "f9080a6f",
      "metadata": {
        "id": "f9080a6f"
      },
      "source": [
        "## Embedding training (representation)"
      ]
    },
    {
      "cell_type": "markdown",
      "id": "56493c0b",
      "metadata": {
        "id": "56493c0b"
      },
      "source": [
        "Model training in our framework organised via pytorch-lightning (pl) framework.\n",
        "The key parts of neural networks training in pl are: \n",
        "\n",
        "    * model (`pytorch_lightning.LightningModule`)\n",
        "    * data loader (`torch.utils.data.DataLoader`)\n",
        "    * trainer (`pytorch_lightning.Trainer`)\n",
        "    \n",
        "For futher details check https://pytorchlightning.ai/"
      ]
    },
    {
      "cell_type": "code",
      "execution_count": 11,
      "id": "Mly1BWDITvF-",
      "metadata": {
        "colab": {
          "base_uri": "https://localhost:8080/"
        },
        "id": "Mly1BWDITvF-",
        "outputId": "0b640b0e-d5d3-499b-e822-740f5d2af498"
      },
      "outputs": [
        {
          "name": "stdout",
          "output_type": "stream",
          "text": [
            "Number of unique MCC codes: 344\n"
          ]
        }
      ],
      "source": [
        "print(\"Number of unique MCC codes:\", source_data['small_group'].max())"
      ]
    },
    {
      "cell_type": "markdown",
      "id": "43a6ee58",
      "metadata": {
        "id": "43a6ee58"
      },
      "source": [
        "### Model definition"
      ]
    },
    {
      "cell_type": "code",
      "execution_count": 15,
      "id": "61ead7d3",
      "metadata": {},
      "outputs": [],
      "source": [
        "trx_encoder_params = dict(\n",
        "    embeddings_noise=0.0,\n",
        "    embeddings={\n",
        "        'small_group': {'in': 345, 'out': 16},\n",
        "        'amount_rur_bin':{'in': 11, 'out': 16}\n",
        "    },\n",
        "    linear_projection_size=32\n",
        ")\n",
        "\n",
        "seq_encoder = RnnEncoder(\n",
        "        input_size=32,\n",
        "        hidden_size=32,\n",
        "        type='gru',\n",
        ")\n",
        "\n",
        "model = GptPretrainModule(\n",
        "    trx_encoder=TrxEncoder(**trx_encoder_params),\n",
        "    seq_encoder=seq_encoder,\n",
        "    max_lr=0.1\n",
        ")"
      ]
    },
    {
      "attachments": {},
      "cell_type": "markdown",
      "id": "8135513b",
      "metadata": {},
      "source": [
        "### Pre-training"
      ]
    },
    {
      "cell_type": "code",
      "execution_count": 16,
      "id": "b22b6b2a",
      "metadata": {},
      "outputs": [
        {
          "name": "stderr",
          "output_type": "stream",
          "text": [
            "GPU available: True, used: True\n",
            "TPU available: False, using: 0 TPU cores\n",
            "IPU available: False, using: 0 IPUs\n",
            "HPU available: False, using: 0 HPUs\n"
          ]
        }
      ],
      "source": [
        "trainer = pl.Trainer(\n",
        "    max_epochs=100,\n",
        "    gpus=1 if torch.cuda.is_available() else 0,\n",
        "    callbacks=[pl.callbacks.EarlyStopping('gpt/valid_gpt_loss')],\n",
        "    enable_progress_bar=True\n",
        ")"
      ]
    },
    {
      "cell_type": "code",
      "execution_count": 17,
      "id": "ef1e4af6",
      "metadata": {},
      "outputs": [
        {
          "name": "stdout",
          "output_type": "stream",
          "text": [
            "logger.version = 91\n"
          ]
        },
        {
          "name": "stderr",
          "output_type": "stream",
          "text": [
            "LOCAL_RANK: 0 - CUDA_VISIBLE_DEVICES: [0]\n",
            "\n",
            "  | Name           | Type             | Params\n",
            "----------------------------------------------------\n",
            "0 | trx_encoder    | TrxEncoder       | 6.8 K \n",
            "1 | _seq_encoder   | RnnEncoder       | 6.4 K \n",
            "2 | head           | ModuleDict       | 27.4 K\n",
            "3 | loss           | CrossEntropyLoss | 0     \n",
            "4 | train_gpt_loss | MeanMetric       | 0     \n",
            "5 | valid_gpt_loss | MeanMetric       | 0     \n",
            "----------------------------------------------------\n",
            "40.5 K    Trainable params\n",
            "0         Non-trainable params\n",
            "40.5 K    Total params\n",
            "0.162     Total estimated model params size (MB)\n"
          ]
        },
        {
          "data": {
            "application/vnd.jupyter.widget-view+json": {
              "model_id": "699b066647f7479fb55316fcbcec435e",
              "version_major": 2,
              "version_minor": 0
            },
            "text/plain": [
              "Sanity Checking: 0it [00:00, ?it/s]"
            ]
          },
          "metadata": {},
          "output_type": "display_data"
        },
        {
          "data": {
            "application/vnd.jupyter.widget-view+json": {
              "model_id": "740923c3d8af454782c5f0d2844ec09f",
              "version_major": 2,
              "version_minor": 0
            },
            "text/plain": [
              "Training: 0it [00:00, ?it/s]"
            ]
          },
          "metadata": {},
          "output_type": "display_data"
        },
        {
          "data": {
            "application/vnd.jupyter.widget-view+json": {
              "model_id": "47df280648b44d2da6195c53be7956d0",
              "version_major": 2,
              "version_minor": 0
            },
            "text/plain": [
              "Validation: 0it [00:00, ?it/s]"
            ]
          },
          "metadata": {},
          "output_type": "display_data"
        },
        {
          "data": {
            "application/vnd.jupyter.widget-view+json": {
              "model_id": "ca05ce8fa5754af0bfa0b8dab5be4456",
              "version_major": 2,
              "version_minor": 0
            },
            "text/plain": [
              "Validation: 0it [00:00, ?it/s]"
            ]
          },
          "metadata": {},
          "output_type": "display_data"
        },
        {
          "data": {
            "application/vnd.jupyter.widget-view+json": {
              "model_id": "78992a4edd2a4fc0b1edbcda2bb9c1fc",
              "version_major": 2,
              "version_minor": 0
            },
            "text/plain": [
              "Validation: 0it [00:00, ?it/s]"
            ]
          },
          "metadata": {},
          "output_type": "display_data"
        },
        {
          "data": {
            "application/vnd.jupyter.widget-view+json": {
              "model_id": "ebd3daee1e164af3aed30f0251ad6485",
              "version_major": 2,
              "version_minor": 0
            },
            "text/plain": [
              "Validation: 0it [00:00, ?it/s]"
            ]
          },
          "metadata": {},
          "output_type": "display_data"
        },
        {
          "data": {
            "application/vnd.jupyter.widget-view+json": {
              "model_id": "6bcf8496bedc4276b81f2fb3025ea7b2",
              "version_major": 2,
              "version_minor": 0
            },
            "text/plain": [
              "Validation: 0it [00:00, ?it/s]"
            ]
          },
          "metadata": {},
          "output_type": "display_data"
        },
        {
          "data": {
            "application/vnd.jupyter.widget-view+json": {
              "model_id": "2221eb4ccca443d2b32a6a89ce40d442",
              "version_major": 2,
              "version_minor": 0
            },
            "text/plain": [
              "Validation: 0it [00:00, ?it/s]"
            ]
          },
          "metadata": {},
          "output_type": "display_data"
        },
        {
          "data": {
            "application/vnd.jupyter.widget-view+json": {
              "model_id": "b1a8f33a0fae4549bbe3fbfd39720e16",
              "version_major": 2,
              "version_minor": 0
            },
            "text/plain": [
              "Validation: 0it [00:00, ?it/s]"
            ]
          },
          "metadata": {},
          "output_type": "display_data"
        },
        {
          "data": {
            "application/vnd.jupyter.widget-view+json": {
              "model_id": "7dbb95d708754e83bdc0d84bc0942a3f",
              "version_major": 2,
              "version_minor": 0
            },
            "text/plain": [
              "Validation: 0it [00:00, ?it/s]"
            ]
          },
          "metadata": {},
          "output_type": "display_data"
        },
        {
          "data": {
            "application/vnd.jupyter.widget-view+json": {
              "model_id": "0e9728abbd8a4b71b22083339515bf72",
              "version_major": 2,
              "version_minor": 0
            },
            "text/plain": [
              "Validation: 0it [00:00, ?it/s]"
            ]
          },
          "metadata": {},
          "output_type": "display_data"
        },
        {
          "data": {
            "application/vnd.jupyter.widget-view+json": {
              "model_id": "5983d467c8a74db78c7190f588917fef",
              "version_major": 2,
              "version_minor": 0
            },
            "text/plain": [
              "Validation: 0it [00:00, ?it/s]"
            ]
          },
          "metadata": {},
          "output_type": "display_data"
        },
        {
          "data": {
            "application/vnd.jupyter.widget-view+json": {
              "model_id": "64c6d258cdcb42e6a4d5eb06a46dab67",
              "version_major": 2,
              "version_minor": 0
            },
            "text/plain": [
              "Validation: 0it [00:00, ?it/s]"
            ]
          },
          "metadata": {},
          "output_type": "display_data"
        },
        {
          "data": {
            "application/vnd.jupyter.widget-view+json": {
              "model_id": "43bf7c576fe64b4ea5291ff1b9c5a00f",
              "version_major": 2,
              "version_minor": 0
            },
            "text/plain": [
              "Validation: 0it [00:00, ?it/s]"
            ]
          },
          "metadata": {},
          "output_type": "display_data"
        },
        {
          "data": {
            "application/vnd.jupyter.widget-view+json": {
              "model_id": "9b813edf70d8411987cfdb4a27888815",
              "version_major": 2,
              "version_minor": 0
            },
            "text/plain": [
              "Validation: 0it [00:00, ?it/s]"
            ]
          },
          "metadata": {},
          "output_type": "display_data"
        },
        {
          "data": {
            "application/vnd.jupyter.widget-view+json": {
              "model_id": "b05dc640d1d247aea2e551a82b43d8ce",
              "version_major": 2,
              "version_minor": 0
            },
            "text/plain": [
              "Validation: 0it [00:00, ?it/s]"
            ]
          },
          "metadata": {},
          "output_type": "display_data"
        },
        {
          "data": {
            "application/vnd.jupyter.widget-view+json": {
              "model_id": "2c004248f931490dad9ce487c69f3ecb",
              "version_major": 2,
              "version_minor": 0
            },
            "text/plain": [
              "Validation: 0it [00:00, ?it/s]"
            ]
          },
          "metadata": {},
          "output_type": "display_data"
        },
        {
          "data": {
            "application/vnd.jupyter.widget-view+json": {
              "model_id": "5b0168090c624287a73267a81d234ab3",
              "version_major": 2,
              "version_minor": 0
            },
            "text/plain": [
              "Validation: 0it [00:00, ?it/s]"
            ]
          },
          "metadata": {},
          "output_type": "display_data"
        },
        {
          "data": {
            "application/vnd.jupyter.widget-view+json": {
              "model_id": "524f6be419d44b8abbe45ff4ad813771",
              "version_major": 2,
              "version_minor": 0
            },
            "text/plain": [
              "Validation: 0it [00:00, ?it/s]"
            ]
          },
          "metadata": {},
          "output_type": "display_data"
        },
        {
          "data": {
            "application/vnd.jupyter.widget-view+json": {
              "model_id": "68964d2785ee4140a0e6e2dbe16480c5",
              "version_major": 2,
              "version_minor": 0
            },
            "text/plain": [
              "Validation: 0it [00:00, ?it/s]"
            ]
          },
          "metadata": {},
          "output_type": "display_data"
        },
        {
          "data": {
            "application/vnd.jupyter.widget-view+json": {
              "model_id": "0d86f9d164294330931a9054a5e2b516",
              "version_major": 2,
              "version_minor": 0
            },
            "text/plain": [
              "Validation: 0it [00:00, ?it/s]"
            ]
          },
          "metadata": {},
          "output_type": "display_data"
        },
        {
          "data": {
            "application/vnd.jupyter.widget-view+json": {
              "model_id": "d6bd6f94ace04e9ba821bf5da5fcdd65",
              "version_major": 2,
              "version_minor": 0
            },
            "text/plain": [
              "Validation: 0it [00:00, ?it/s]"
            ]
          },
          "metadata": {},
          "output_type": "display_data"
        },
        {
          "data": {
            "application/vnd.jupyter.widget-view+json": {
              "model_id": "40721d931cc446ceaf5ffe9e1ebd7885",
              "version_major": 2,
              "version_minor": 0
            },
            "text/plain": [
              "Validation: 0it [00:00, ?it/s]"
            ]
          },
          "metadata": {},
          "output_type": "display_data"
        },
        {
          "data": {
            "application/vnd.jupyter.widget-view+json": {
              "model_id": "171c4abd5889403e8984df886d44ed18",
              "version_major": 2,
              "version_minor": 0
            },
            "text/plain": [
              "Validation: 0it [00:00, ?it/s]"
            ]
          },
          "metadata": {},
          "output_type": "display_data"
        },
        {
          "data": {
            "application/vnd.jupyter.widget-view+json": {
              "model_id": "87a36ecc65684b13bb30260d4645a089",
              "version_major": 2,
              "version_minor": 0
            },
            "text/plain": [
              "Validation: 0it [00:00, ?it/s]"
            ]
          },
          "metadata": {},
          "output_type": "display_data"
        },
        {
          "data": {
            "application/vnd.jupyter.widget-view+json": {
              "model_id": "5eda62a872a64c8f9329b62e26dabc5b",
              "version_major": 2,
              "version_minor": 0
            },
            "text/plain": [
              "Validation: 0it [00:00, ?it/s]"
            ]
          },
          "metadata": {},
          "output_type": "display_data"
        },
        {
          "data": {
            "application/vnd.jupyter.widget-view+json": {
              "model_id": "a535443605b247f197e86a013d6e0c58",
              "version_major": 2,
              "version_minor": 0
            },
            "text/plain": [
              "Validation: 0it [00:00, ?it/s]"
            ]
          },
          "metadata": {},
          "output_type": "display_data"
        },
        {
          "data": {
            "application/vnd.jupyter.widget-view+json": {
              "model_id": "270c946c0d7b456fb61b3d4f4bd9b1c9",
              "version_major": 2,
              "version_minor": 0
            },
            "text/plain": [
              "Validation: 0it [00:00, ?it/s]"
            ]
          },
          "metadata": {},
          "output_type": "display_data"
        },
        {
          "data": {
            "application/vnd.jupyter.widget-view+json": {
              "model_id": "bcddafcb78de4766afe6d170833ceb7a",
              "version_major": 2,
              "version_minor": 0
            },
            "text/plain": [
              "Validation: 0it [00:00, ?it/s]"
            ]
          },
          "metadata": {},
          "output_type": "display_data"
        },
        {
          "data": {
            "application/vnd.jupyter.widget-view+json": {
              "model_id": "299213babbe34656ae038c1e21e10e34",
              "version_major": 2,
              "version_minor": 0
            },
            "text/plain": [
              "Validation: 0it [00:00, ?it/s]"
            ]
          },
          "metadata": {},
          "output_type": "display_data"
        },
        {
          "data": {
            "application/vnd.jupyter.widget-view+json": {
              "model_id": "bba3a8e90d9d4979b5d08f6f26f8df5a",
              "version_major": 2,
              "version_minor": 0
            },
            "text/plain": [
              "Validation: 0it [00:00, ?it/s]"
            ]
          },
          "metadata": {},
          "output_type": "display_data"
        },
        {
          "data": {
            "application/vnd.jupyter.widget-view+json": {
              "model_id": "1efdb2c1b8e148589f7f8f58641cb78d",
              "version_major": 2,
              "version_minor": 0
            },
            "text/plain": [
              "Validation: 0it [00:00, ?it/s]"
            ]
          },
          "metadata": {},
          "output_type": "display_data"
        },
        {
          "data": {
            "application/vnd.jupyter.widget-view+json": {
              "model_id": "90656f22e8e24d51b9159de481bc8d8a",
              "version_major": 2,
              "version_minor": 0
            },
            "text/plain": [
              "Validation: 0it [00:00, ?it/s]"
            ]
          },
          "metadata": {},
          "output_type": "display_data"
        },
        {
          "data": {
            "application/vnd.jupyter.widget-view+json": {
              "model_id": "3bb087976ee0488f84f862e03cf560d2",
              "version_major": 2,
              "version_minor": 0
            },
            "text/plain": [
              "Validation: 0it [00:00, ?it/s]"
            ]
          },
          "metadata": {},
          "output_type": "display_data"
        },
        {
          "data": {
            "application/vnd.jupyter.widget-view+json": {
              "model_id": "67665359898b4f7fb1e34f0533a98f5c",
              "version_major": 2,
              "version_minor": 0
            },
            "text/plain": [
              "Validation: 0it [00:00, ?it/s]"
            ]
          },
          "metadata": {},
          "output_type": "display_data"
        },
        {
          "data": {
            "application/vnd.jupyter.widget-view+json": {
              "model_id": "656048778b554cfe999d74a84a19e6b7",
              "version_major": 2,
              "version_minor": 0
            },
            "text/plain": [
              "Validation: 0it [00:00, ?it/s]"
            ]
          },
          "metadata": {},
          "output_type": "display_data"
        },
        {
          "name": "stdout",
          "output_type": "stream",
          "text": [
            "{'gpt/loss': tensor(4.9095), 'gpt/valid_gpt_loss': tensor(5.0274), 'gpt/train_gpt_loss': tensor(4.9657)}\n",
            "CPU times: total: 37.3 s\n",
            "Wall time: 40.7 s\n"
          ]
        }
      ],
      "source": [
        "%%time\n",
        "print(f'logger.version = {trainer.logger.version}')\n",
        "trainer.fit(model, train_dl)\n",
        "print(trainer.logged_metrics)"
      ]
    },
    {
      "attachments": {},
      "cell_type": "markdown",
      "id": "c3b2d4fe",
      "metadata": {},
      "source": [
        "### Fine-tuning"
      ]
    },
    {
      "cell_type": "code",
      "execution_count": 25,
      "id": "0ef54f03",
      "metadata": {},
      "outputs": [
        {
          "name": "stdout",
          "output_type": "stream",
          "text": [
            "Parameter containing:\n",
            "tensor([[ 0.6017, -0.2060, -0.6732,  ...,  0.0954,  0.1001,  0.0099],\n",
            "        [ 0.1440, -0.1219,  0.6979,  ...,  0.3641,  0.1116, -0.0355],\n",
            "        [-0.0530,  0.1641, -0.4594,  ..., -0.0890, -0.3170,  0.4077],\n",
            "        ...,\n",
            "        [-0.0061,  0.2025, -0.0250,  ..., -0.2322,  0.0044,  0.0723],\n",
            "        [ 0.3667, -0.2494,  0.5317,  ..., -0.2269, -0.1410,  0.2347],\n",
            "        [ 0.1141,  0.0317,  0.2057,  ...,  0.1222, -0.1854,  0.0400]],\n",
            "       requires_grad=True)\n"
          ]
        }
      ],
      "source": [
        "model.trx_encoder.requires_grad_(False)\n",
        "model._seq_encoder.requires_grad_(True)\n",
        "\n",
        "for x in model._seq_encoder.rnn.parameters():\n",
        "    print(x)\n",
        "    break"
      ]
    },
    {
      "cell_type": "code",
      "execution_count": 26,
      "id": "98379275",
      "metadata": {},
      "outputs": [],
      "source": [
        "model_downstream = NextItemPredictionModule(\n",
        "    trx_encoder=TrxEncoder(**trx_encoder_params), # model.trx_encoder,\n",
        "    seq_encoder=seq_encoder, # seq_encoder, \n",
        "    target_col='small_group',\n",
        "    max_lr=0.1,\n",
        ")"
      ]
    },
    {
      "cell_type": "code",
      "execution_count": 27,
      "id": "f729fd2e",
      "metadata": {},
      "outputs": [
        {
          "name": "stderr",
          "output_type": "stream",
          "text": [
            "GPU available: True, used: True\n",
            "TPU available: False, using: 0 TPU cores\n",
            "IPU available: False, using: 0 IPUs\n",
            "HPU available: False, using: 0 HPUs\n"
          ]
        }
      ],
      "source": [
        "checkpoint = pl.callbacks.Che\n",
        "\n",
        "trainer = pl.Trainer(\n",
        "    max_epochs=100,\n",
        "    gpus=1 if torch.cuda.is_available() else 0,\n",
        "    callbacks=[pl.callbacks.EarlyStopping('gpt/valid_gpt_loss', patience=5, mode='min')],\n",
        "    enable_progress_bar=True,\n",
        ")"
      ]
    },
    {
      "cell_type": "code",
      "execution_count": 28,
      "id": "98dd6c5b",
      "metadata": {},
      "outputs": [
        {
          "name": "stderr",
          "output_type": "stream",
          "text": [
            "LOCAL_RANK: 0 - CUDA_VISIBLE_DEVICES: [0]\n",
            "\n",
            "  | Name           | Type             | Params\n",
            "----------------------------------------------------\n",
            "0 | trx_encoder    | TrxEncoder       | 6.8 K \n",
            "1 | _seq_encoder   | RnnEncoder       | 6.4 K \n",
            "2 | head           | Head             | 24.5 K\n",
            "3 | loss           | CrossEntropyLoss | 0     \n",
            "4 | train_gpt_loss | MeanMetric       | 0     \n",
            "5 | valid_gpt_loss | MeanMetric       | 0     \n",
            "----------------------------------------------------\n",
            "37.7 K    Trainable params\n",
            "0         Non-trainable params\n",
            "37.7 K    Total params\n",
            "0.151     Total estimated model params size (MB)\n"
          ]
        },
        {
          "name": "stdout",
          "output_type": "stream",
          "text": [
            "logger.version = 93\n"
          ]
        },
        {
          "data": {
            "application/vnd.jupyter.widget-view+json": {
              "model_id": "a17f355d961d415f99453398c89fdda2",
              "version_major": 2,
              "version_minor": 0
            },
            "text/plain": [
              "Sanity Checking: 0it [00:00, ?it/s]"
            ]
          },
          "metadata": {},
          "output_type": "display_data"
        },
        {
          "name": "stderr",
          "output_type": "stream",
          "text": [
            "c:\\Users\\User\\AppData\\Local\\Programs\\Python\\Python39\\lib\\site-packages\\pytorch_lightning\\trainer\\connectors\\data_connector.py:240: PossibleUserWarning: The dataloader, val_dataloader 0, does not have many workers which may be a bottleneck. Consider increasing the value of the `num_workers` argument` (try 12 which is the number of cpus on this machine) in the `DataLoader` init to improve performance.\n",
            "  rank_zero_warn(\n",
            "c:\\Users\\User\\AppData\\Local\\Programs\\Python\\Python39\\lib\\site-packages\\pytorch_lightning\\trainer\\connectors\\data_connector.py:240: PossibleUserWarning: The dataloader, train_dataloader, does not have many workers which may be a bottleneck. Consider increasing the value of the `num_workers` argument` (try 12 which is the number of cpus on this machine) in the `DataLoader` init to improve performance.\n",
            "  rank_zero_warn(\n",
            "c:\\Users\\User\\AppData\\Local\\Programs\\Python\\Python39\\lib\\site-packages\\pytorch_lightning\\trainer\\trainer.py:1933: PossibleUserWarning: The number of training batches (32) is smaller than the logging interval Trainer(log_every_n_steps=50). Set a lower value for log_every_n_steps if you want to see logs for the training epoch.\n",
            "  rank_zero_warn(\n"
          ]
        },
        {
          "data": {
            "application/vnd.jupyter.widget-view+json": {
              "model_id": "66a549f6c7284f59b6499f1e3c5b79b1",
              "version_major": 2,
              "version_minor": 0
            },
            "text/plain": [
              "Training: 0it [00:00, ?it/s]"
            ]
          },
          "metadata": {},
          "output_type": "display_data"
        },
        {
          "data": {
            "application/vnd.jupyter.widget-view+json": {
              "model_id": "1dc227276dde4ff68cdd9342bfff535f",
              "version_major": 2,
              "version_minor": 0
            },
            "text/plain": [
              "Validation: 0it [00:00, ?it/s]"
            ]
          },
          "metadata": {},
          "output_type": "display_data"
        },
        {
          "data": {
            "application/vnd.jupyter.widget-view+json": {
              "model_id": "7d04f96ff265405f8691ec58544fa3cb",
              "version_major": 2,
              "version_minor": 0
            },
            "text/plain": [
              "Validation: 0it [00:00, ?it/s]"
            ]
          },
          "metadata": {},
          "output_type": "display_data"
        },
        {
          "data": {
            "application/vnd.jupyter.widget-view+json": {
              "model_id": "62c7a52c3efa4d4084d8d932ebc7cc61",
              "version_major": 2,
              "version_minor": 0
            },
            "text/plain": [
              "Validation: 0it [00:00, ?it/s]"
            ]
          },
          "metadata": {},
          "output_type": "display_data"
        },
        {
          "data": {
            "application/vnd.jupyter.widget-view+json": {
              "model_id": "c4d105775ac14de69fc8a5bca3346405",
              "version_major": 2,
              "version_minor": 0
            },
            "text/plain": [
              "Validation: 0it [00:00, ?it/s]"
            ]
          },
          "metadata": {},
          "output_type": "display_data"
        },
        {
          "data": {
            "application/vnd.jupyter.widget-view+json": {
              "model_id": "aaca4d42ea654f489198418abc707fa4",
              "version_major": 2,
              "version_minor": 0
            },
            "text/plain": [
              "Validation: 0it [00:00, ?it/s]"
            ]
          },
          "metadata": {},
          "output_type": "display_data"
        },
        {
          "data": {
            "application/vnd.jupyter.widget-view+json": {
              "model_id": "cddc83003c3c42ec8b857384f505b033",
              "version_major": 2,
              "version_minor": 0
            },
            "text/plain": [
              "Validation: 0it [00:00, ?it/s]"
            ]
          },
          "metadata": {},
          "output_type": "display_data"
        },
        {
          "data": {
            "application/vnd.jupyter.widget-view+json": {
              "model_id": "0f3802c45aea4409a1887c0ffa6563d5",
              "version_major": 2,
              "version_minor": 0
            },
            "text/plain": [
              "Validation: 0it [00:00, ?it/s]"
            ]
          },
          "metadata": {},
          "output_type": "display_data"
        },
        {
          "data": {
            "application/vnd.jupyter.widget-view+json": {
              "model_id": "e4d1364f159749b2b028006932548a24",
              "version_major": 2,
              "version_minor": 0
            },
            "text/plain": [
              "Validation: 0it [00:00, ?it/s]"
            ]
          },
          "metadata": {},
          "output_type": "display_data"
        },
        {
          "data": {
            "application/vnd.jupyter.widget-view+json": {
              "model_id": "77100e12c1a54582918d395301242157",
              "version_major": 2,
              "version_minor": 0
            },
            "text/plain": [
              "Validation: 0it [00:00, ?it/s]"
            ]
          },
          "metadata": {},
          "output_type": "display_data"
        },
        {
          "data": {
            "application/vnd.jupyter.widget-view+json": {
              "model_id": "36c6edd2a1754bcda270647293c059e4",
              "version_major": 2,
              "version_minor": 0
            },
            "text/plain": [
              "Validation: 0it [00:00, ?it/s]"
            ]
          },
          "metadata": {},
          "output_type": "display_data"
        },
        {
          "data": {
            "application/vnd.jupyter.widget-view+json": {
              "model_id": "f9a506af4c264c79ba40aca6916dd40e",
              "version_major": 2,
              "version_minor": 0
            },
            "text/plain": [
              "Validation: 0it [00:00, ?it/s]"
            ]
          },
          "metadata": {},
          "output_type": "display_data"
        },
        {
          "data": {
            "application/vnd.jupyter.widget-view+json": {
              "model_id": "9b757a2008a543d0ae35d081136acc8b",
              "version_major": 2,
              "version_minor": 0
            },
            "text/plain": [
              "Validation: 0it [00:00, ?it/s]"
            ]
          },
          "metadata": {},
          "output_type": "display_data"
        },
        {
          "data": {
            "application/vnd.jupyter.widget-view+json": {
              "model_id": "8b2e2b1d889145269dc962e415e5f249",
              "version_major": 2,
              "version_minor": 0
            },
            "text/plain": [
              "Validation: 0it [00:00, ?it/s]"
            ]
          },
          "metadata": {},
          "output_type": "display_data"
        },
        {
          "data": {
            "application/vnd.jupyter.widget-view+json": {
              "model_id": "68f2f42cd0354ce8bab228f1abb9a415",
              "version_major": 2,
              "version_minor": 0
            },
            "text/plain": [
              "Validation: 0it [00:00, ?it/s]"
            ]
          },
          "metadata": {},
          "output_type": "display_data"
        },
        {
          "data": {
            "application/vnd.jupyter.widget-view+json": {
              "model_id": "2d1f364607d54c5d8124de1aa74d187a",
              "version_major": 2,
              "version_minor": 0
            },
            "text/plain": [
              "Validation: 0it [00:00, ?it/s]"
            ]
          },
          "metadata": {},
          "output_type": "display_data"
        },
        {
          "data": {
            "application/vnd.jupyter.widget-view+json": {
              "model_id": "73e1f9ada5c847339e6cdcc0c51458de",
              "version_major": 2,
              "version_minor": 0
            },
            "text/plain": [
              "Validation: 0it [00:00, ?it/s]"
            ]
          },
          "metadata": {},
          "output_type": "display_data"
        },
        {
          "data": {
            "application/vnd.jupyter.widget-view+json": {
              "model_id": "5c776765cf8747baaa0b8b3074e42ce1",
              "version_major": 2,
              "version_minor": 0
            },
            "text/plain": [
              "Validation: 0it [00:00, ?it/s]"
            ]
          },
          "metadata": {},
          "output_type": "display_data"
        },
        {
          "data": {
            "application/vnd.jupyter.widget-view+json": {
              "model_id": "197e1a7841cf46baa47032aaf2666acd",
              "version_major": 2,
              "version_minor": 0
            },
            "text/plain": [
              "Validation: 0it [00:00, ?it/s]"
            ]
          },
          "metadata": {},
          "output_type": "display_data"
        },
        {
          "data": {
            "application/vnd.jupyter.widget-view+json": {
              "model_id": "e57d38f1c2ce4ef1a0519a7cc1a93423",
              "version_major": 2,
              "version_minor": 0
            },
            "text/plain": [
              "Validation: 0it [00:00, ?it/s]"
            ]
          },
          "metadata": {},
          "output_type": "display_data"
        },
        {
          "data": {
            "application/vnd.jupyter.widget-view+json": {
              "model_id": "38c67dd2e5e541f8a1b8127dc5657976",
              "version_major": 2,
              "version_minor": 0
            },
            "text/plain": [
              "Validation: 0it [00:00, ?it/s]"
            ]
          },
          "metadata": {},
          "output_type": "display_data"
        },
        {
          "data": {
            "application/vnd.jupyter.widget-view+json": {
              "model_id": "6f11e8ed0d5c4bdb9df3c1c9caf9ec47",
              "version_major": 2,
              "version_minor": 0
            },
            "text/plain": [
              "Validation: 0it [00:00, ?it/s]"
            ]
          },
          "metadata": {},
          "output_type": "display_data"
        },
        {
          "data": {
            "application/vnd.jupyter.widget-view+json": {
              "model_id": "b0c90b9394ae451da8f62d6a40a2c00f",
              "version_major": 2,
              "version_minor": 0
            },
            "text/plain": [
              "Validation: 0it [00:00, ?it/s]"
            ]
          },
          "metadata": {},
          "output_type": "display_data"
        },
        {
          "data": {
            "application/vnd.jupyter.widget-view+json": {
              "model_id": "e2a044e7fd34439f8fab6ab90b0f8991",
              "version_major": 2,
              "version_minor": 0
            },
            "text/plain": [
              "Validation: 0it [00:00, ?it/s]"
            ]
          },
          "metadata": {},
          "output_type": "display_data"
        },
        {
          "data": {
            "application/vnd.jupyter.widget-view+json": {
              "model_id": "10cc913e624d45f6b6515543e3bace79",
              "version_major": 2,
              "version_minor": 0
            },
            "text/plain": [
              "Validation: 0it [00:00, ?it/s]"
            ]
          },
          "metadata": {},
          "output_type": "display_data"
        },
        {
          "data": {
            "application/vnd.jupyter.widget-view+json": {
              "model_id": "e827e4bbf6d9415884c61f98016745d4",
              "version_major": 2,
              "version_minor": 0
            },
            "text/plain": [
              "Validation: 0it [00:00, ?it/s]"
            ]
          },
          "metadata": {},
          "output_type": "display_data"
        },
        {
          "data": {
            "application/vnd.jupyter.widget-view+json": {
              "model_id": "5f62b9e353ca47db9664998a429e7b02",
              "version_major": 2,
              "version_minor": 0
            },
            "text/plain": [
              "Validation: 0it [00:00, ?it/s]"
            ]
          },
          "metadata": {},
          "output_type": "display_data"
        },
        {
          "data": {
            "application/vnd.jupyter.widget-view+json": {
              "model_id": "93f17c22588d4f82bd380b7ee78dd035",
              "version_major": 2,
              "version_minor": 0
            },
            "text/plain": [
              "Validation: 0it [00:00, ?it/s]"
            ]
          },
          "metadata": {},
          "output_type": "display_data"
        },
        {
          "data": {
            "application/vnd.jupyter.widget-view+json": {
              "model_id": "93d72cc2a4204ceab85964244b127778",
              "version_major": 2,
              "version_minor": 0
            },
            "text/plain": [
              "Validation: 0it [00:00, ?it/s]"
            ]
          },
          "metadata": {},
          "output_type": "display_data"
        },
        {
          "name": "stdout",
          "output_type": "stream",
          "text": [
            "{'gpt/loss': tensor(2.8881), 'gpt/valid_gpt_loss': tensor(2.8790), 'gpt/valid_f1_weighted': tensor(0.2312, dtype=torch.float64), 'gpt/train_gpt_loss': tensor(2.8061)}\n"
          ]
        }
      ],
      "source": [
        "print(f'logger.version = {trainer.logger.version}')\n",
        "trainer.fit(model_downstream, train_dl)\n",
        "print(trainer.logged_metrics)"
      ]
    },
    {
      "cell_type": "code",
      "execution_count": 29,
      "id": "89598345",
      "metadata": {},
      "outputs": [
        {
          "name": "stderr",
          "output_type": "stream",
          "text": [
            "LOCAL_RANK: 0 - CUDA_VISIBLE_DEVICES: [0]\n",
            "c:\\Users\\User\\AppData\\Local\\Programs\\Python\\Python39\\lib\\site-packages\\pytorch_lightning\\trainer\\connectors\\data_connector.py:240: PossibleUserWarning: The dataloader, test_dataloader 0, does not have many workers which may be a bottleneck. Consider increasing the value of the `num_workers` argument` (try 12 which is the number of cpus on this machine) in the `DataLoader` init to improve performance.\n",
            "  rank_zero_warn(\n"
          ]
        },
        {
          "data": {
            "application/vnd.jupyter.widget-view+json": {
              "model_id": "1cde8edd0c6646da8c5524da4d0f315d",
              "version_major": 2,
              "version_minor": 0
            },
            "text/plain": [
              "Testing: 0it [00:00, ?it/s]"
            ]
          },
          "metadata": {},
          "output_type": "display_data"
        },
        {
          "name": "stdout",
          "output_type": "stream",
          "text": [
            "────────────────────────────────────────────────────────────────────────────────────────────────────────────────────────\n",
            "       Test metric             DataLoader 0\n",
            "────────────────────────────────────────────────────────────────────────────────────────────────────────────────────────\n",
            "  gpt/test_f1_weighted      0.2366044538093604\n",
            "────────────────────────────────────────────────────────────────────────────────────────────────────────────────────────\n"
          ]
        },
        {
          "data": {
            "text/plain": [
              "[{'gpt/test_f1_weighted': 0.2366044538093604}]"
            ]
          },
          "execution_count": 29,
          "metadata": {},
          "output_type": "execute_result"
        }
      ],
      "source": [
        "trainer.test(model_downstream, train_dl)"
      ]
    },
    {
      "cell_type": "code",
      "execution_count": 61,
      "id": "35050e93",
      "metadata": {},
      "outputs": [
        {
          "name": "stdout",
          "output_type": "stream",
          "text": [
            "Parameter containing:\n",
            "tensor([[ 0.0000,  0.0000,  0.0000,  ...,  0.0000,  0.0000,  0.0000],\n",
            "        [ 0.7690,  1.2800,  1.8744,  ...,  0.3460,  0.4291,  0.2786],\n",
            "        [-0.7777, -0.1185, -0.9769,  ...,  0.6025,  0.6557, -1.5881],\n",
            "        ...,\n",
            "        [-0.5787, -1.4496,  1.3006,  ..., -0.1985, -0.0092, -0.1623],\n",
            "        [-0.9733, -1.5787,  1.1142,  ...,  0.9475, -0.9607,  0.8432],\n",
            "        [ 0.8133,  0.6903,  0.8634,  ...,  0.0118, -1.4103, -0.7586]],\n",
            "       device='cuda:0', requires_grad=True)\n"
          ]
        }
      ],
      "source": [
        "for x in model_downstream.trx_encoder.embeddings.small_group.parameters():\n",
        "    print(x)"
      ]
    },
    {
      "attachments": {},
      "cell_type": "markdown",
      "id": "df390a86",
      "metadata": {},
      "source": [
        "## Embedding training (contrastive)\n",
        "\n",
        "### Model definition"
      ]
    },
    {
      "cell_type": "code",
      "execution_count": 181,
      "id": "79274426",
      "metadata": {},
      "outputs": [],
      "source": [
        "trx_encoder_params = dict(\n",
        "    embeddings_noise=0.0,\n",
        "    embeddings={\n",
        "        'small_group': {'in': 112, 'out': 4},\n",
        "        'amount_rur_bin':{'in': 11, 'out': 4}\n",
        "    },\n",
        "    linear_projection_size=32\n",
        ")\n",
        "\n",
        "seq_encoder = RnnEncoder(\n",
        "        input_size=32,\n",
        "        hidden_size=32,\n",
        "        type='gru',\n",
        ")\n",
        "\n",
        "model = GptPretrainContrastiveModule(\n",
        "    trx_encoder=TrxEncoder(**trx_encoder_params),\n",
        "    seq_encoder=seq_encoder,\n",
        "    max_lr=0.1,\n",
        "    total_steps=10000,\n",
        "    neg_count=10,\n",
        "    loss_temperature=5\n",
        ")\n"
      ]
    },
    {
      "attachments": {},
      "cell_type": "markdown",
      "id": "19835f90",
      "metadata": {},
      "source": [
        "### Trainer"
      ]
    },
    {
      "cell_type": "code",
      "execution_count": 182,
      "id": "f86c0117",
      "metadata": {},
      "outputs": [
        {
          "name": "stderr",
          "output_type": "stream",
          "text": [
            "GPU available: True, used: True\n",
            "TPU available: False, using: 0 TPU cores\n",
            "IPU available: False, using: 0 IPUs\n",
            "HPU available: False, using: 0 HPUs\n"
          ]
        }
      ],
      "source": [
        "trainer = pl.Trainer(\n",
        "    max_epochs=100,\n",
        "    gpus=1 if torch.cuda.is_available() else 0,\n",
        "    callbacks=[pl.callbacks.EarlyStopping('mlm/valid_mlm_loss')],\n",
        "    enable_progress_bar=True,\n",
        ")"
      ]
    },
    {
      "cell_type": "code",
      "execution_count": 183,
      "id": "408038f2",
      "metadata": {},
      "outputs": [
        {
          "name": "stderr",
          "output_type": "stream",
          "text": [
            "LOCAL_RANK: 0 - CUDA_VISIBLE_DEVICES: [0]\n",
            "\n",
            "  | Name            | Type             | Params\n",
            "-----------------------------------------------------\n",
            "0 | trx_encoder     | TrxEncoder       | 780   \n",
            "1 | _seq_encoder    | RnnEncoder       | 6.4 K \n",
            "2 | fn_norm_predict | PBShell          | 0     \n",
            "3 | loss_fn         | QuerySoftmaxLoss | 0     \n",
            "4 | train_mlm_loss  | MeanMetric       | 0     \n",
            "5 | valid_mlm_loss  | MeanMetric       | 0     \n",
            "-----------------------------------------------------\n",
            "7.2 K     Trainable params\n",
            "0         Non-trainable params\n",
            "7.2 K     Total params\n",
            "0.029     Total estimated model params size (MB)\n"
          ]
        },
        {
          "name": "stdout",
          "output_type": "stream",
          "text": [
            "logger.version = 34\n"
          ]
        },
        {
          "data": {
            "application/vnd.jupyter.widget-view+json": {
              "model_id": "7140247cbe2d4ab29f043cf1d90aebd0",
              "version_major": 2,
              "version_minor": 0
            },
            "text/plain": [
              "Sanity Checking: 0it [00:00, ?it/s]"
            ]
          },
          "metadata": {},
          "output_type": "display_data"
        },
        {
          "name": "stderr",
          "output_type": "stream",
          "text": [
            "c:\\Users\\User\\AppData\\Local\\Programs\\Python\\Python39\\lib\\site-packages\\pytorch_lightning\\trainer\\connectors\\data_connector.py:240: PossibleUserWarning: The dataloader, val_dataloader 0, does not have many workers which may be a bottleneck. Consider increasing the value of the `num_workers` argument` (try 12 which is the number of cpus on this machine) in the `DataLoader` init to improve performance.\n",
            "  rank_zero_warn(\n",
            "c:\\Users\\User\\AppData\\Local\\Programs\\Python\\Python39\\lib\\site-packages\\pytorch_lightning\\trainer\\connectors\\data_connector.py:240: PossibleUserWarning: The dataloader, train_dataloader, does not have many workers which may be a bottleneck. Consider increasing the value of the `num_workers` argument` (try 12 which is the number of cpus on this machine) in the `DataLoader` init to improve performance.\n",
            "  rank_zero_warn(\n",
            "c:\\Users\\User\\AppData\\Local\\Programs\\Python\\Python39\\lib\\site-packages\\pytorch_lightning\\trainer\\trainer.py:1933: PossibleUserWarning: The number of training batches (25) is smaller than the logging interval Trainer(log_every_n_steps=50). Set a lower value for log_every_n_steps if you want to see logs for the training epoch.\n",
            "  rank_zero_warn(\n"
          ]
        },
        {
          "data": {
            "application/vnd.jupyter.widget-view+json": {
              "model_id": "f6e6bcc860b446eabe2a06f84661a59d",
              "version_major": 2,
              "version_minor": 0
            },
            "text/plain": [
              "Training: 0it [00:00, ?it/s]"
            ]
          },
          "metadata": {},
          "output_type": "display_data"
        },
        {
          "data": {
            "application/vnd.jupyter.widget-view+json": {
              "model_id": "6546c81405364a5b9f530e953006ff2c",
              "version_major": 2,
              "version_minor": 0
            },
            "text/plain": [
              "Validation: 0it [00:00, ?it/s]"
            ]
          },
          "metadata": {},
          "output_type": "display_data"
        },
        {
          "data": {
            "application/vnd.jupyter.widget-view+json": {
              "model_id": "c81e0863033a47a997aac7f44806ae93",
              "version_major": 2,
              "version_minor": 0
            },
            "text/plain": [
              "Validation: 0it [00:00, ?it/s]"
            ]
          },
          "metadata": {},
          "output_type": "display_data"
        },
        {
          "data": {
            "application/vnd.jupyter.widget-view+json": {
              "model_id": "833802baf5174981974dde7ba79f7ee7",
              "version_major": 2,
              "version_minor": 0
            },
            "text/plain": [
              "Validation: 0it [00:00, ?it/s]"
            ]
          },
          "metadata": {},
          "output_type": "display_data"
        },
        {
          "data": {
            "application/vnd.jupyter.widget-view+json": {
              "model_id": "8e75c3ea07ea417eadcd10eebbf69a45",
              "version_major": 2,
              "version_minor": 0
            },
            "text/plain": [
              "Validation: 0it [00:00, ?it/s]"
            ]
          },
          "metadata": {},
          "output_type": "display_data"
        },
        {
          "data": {
            "application/vnd.jupyter.widget-view+json": {
              "model_id": "ab40584852a242d3add819c1afe2289f",
              "version_major": 2,
              "version_minor": 0
            },
            "text/plain": [
              "Validation: 0it [00:00, ?it/s]"
            ]
          },
          "metadata": {},
          "output_type": "display_data"
        },
        {
          "data": {
            "application/vnd.jupyter.widget-view+json": {
              "model_id": "56895c162fa6444f9f2187fff9a3a72a",
              "version_major": 2,
              "version_minor": 0
            },
            "text/plain": [
              "Validation: 0it [00:00, ?it/s]"
            ]
          },
          "metadata": {},
          "output_type": "display_data"
        },
        {
          "data": {
            "application/vnd.jupyter.widget-view+json": {
              "model_id": "8ce4fc57a16940fa886d1fc5fc2d7c59",
              "version_major": 2,
              "version_minor": 0
            },
            "text/plain": [
              "Validation: 0it [00:00, ?it/s]"
            ]
          },
          "metadata": {},
          "output_type": "display_data"
        },
        {
          "data": {
            "application/vnd.jupyter.widget-view+json": {
              "model_id": "f0cd8d54170c4e37b55ba992570888ad",
              "version_major": 2,
              "version_minor": 0
            },
            "text/plain": [
              "Validation: 0it [00:00, ?it/s]"
            ]
          },
          "metadata": {},
          "output_type": "display_data"
        },
        {
          "data": {
            "application/vnd.jupyter.widget-view+json": {
              "model_id": "0b31d0218a0641a6bed2a9f2e36a60b8",
              "version_major": 2,
              "version_minor": 0
            },
            "text/plain": [
              "Validation: 0it [00:00, ?it/s]"
            ]
          },
          "metadata": {},
          "output_type": "display_data"
        },
        {
          "data": {
            "application/vnd.jupyter.widget-view+json": {
              "model_id": "cb69b05fa735467fb3479cb948034785",
              "version_major": 2,
              "version_minor": 0
            },
            "text/plain": [
              "Validation: 0it [00:00, ?it/s]"
            ]
          },
          "metadata": {},
          "output_type": "display_data"
        },
        {
          "data": {
            "application/vnd.jupyter.widget-view+json": {
              "model_id": "e6253b9d295d4ab5ac8ceae0f4e6580c",
              "version_major": 2,
              "version_minor": 0
            },
            "text/plain": [
              "Validation: 0it [00:00, ?it/s]"
            ]
          },
          "metadata": {},
          "output_type": "display_data"
        },
        {
          "data": {
            "application/vnd.jupyter.widget-view+json": {
              "model_id": "e744d424264d40caa0cf843de3cc3b14",
              "version_major": 2,
              "version_minor": 0
            },
            "text/plain": [
              "Validation: 0it [00:00, ?it/s]"
            ]
          },
          "metadata": {},
          "output_type": "display_data"
        },
        {
          "data": {
            "application/vnd.jupyter.widget-view+json": {
              "model_id": "2371db8d26f24996904eb581c2ac92ad",
              "version_major": 2,
              "version_minor": 0
            },
            "text/plain": [
              "Validation: 0it [00:00, ?it/s]"
            ]
          },
          "metadata": {},
          "output_type": "display_data"
        },
        {
          "data": {
            "application/vnd.jupyter.widget-view+json": {
              "model_id": "2e347236d9be46efade667c5f230a55b",
              "version_major": 2,
              "version_minor": 0
            },
            "text/plain": [
              "Validation: 0it [00:00, ?it/s]"
            ]
          },
          "metadata": {},
          "output_type": "display_data"
        },
        {
          "data": {
            "application/vnd.jupyter.widget-view+json": {
              "model_id": "4459fd967f0b4e25bf1240b6ffb14472",
              "version_major": 2,
              "version_minor": 0
            },
            "text/plain": [
              "Validation: 0it [00:00, ?it/s]"
            ]
          },
          "metadata": {},
          "output_type": "display_data"
        },
        {
          "data": {
            "application/vnd.jupyter.widget-view+json": {
              "model_id": "df1be8687ac846b1ad99741f020a652d",
              "version_major": 2,
              "version_minor": 0
            },
            "text/plain": [
              "Validation: 0it [00:00, ?it/s]"
            ]
          },
          "metadata": {},
          "output_type": "display_data"
        },
        {
          "data": {
            "application/vnd.jupyter.widget-view+json": {
              "model_id": "5ce19447421d479c897b89da4c28c37c",
              "version_major": 2,
              "version_minor": 0
            },
            "text/plain": [
              "Validation: 0it [00:00, ?it/s]"
            ]
          },
          "metadata": {},
          "output_type": "display_data"
        },
        {
          "data": {
            "application/vnd.jupyter.widget-view+json": {
              "model_id": "124221dd9f73465ebecd88ea90a7f121",
              "version_major": 2,
              "version_minor": 0
            },
            "text/plain": [
              "Validation: 0it [00:00, ?it/s]"
            ]
          },
          "metadata": {},
          "output_type": "display_data"
        },
        {
          "data": {
            "application/vnd.jupyter.widget-view+json": {
              "model_id": "e6539629fe5c4f3cae2fd418a573ce55",
              "version_major": 2,
              "version_minor": 0
            },
            "text/plain": [
              "Validation: 0it [00:00, ?it/s]"
            ]
          },
          "metadata": {},
          "output_type": "display_data"
        },
        {
          "data": {
            "application/vnd.jupyter.widget-view+json": {
              "model_id": "906b629bf5b94b3dbb04affd273408bb",
              "version_major": 2,
              "version_minor": 0
            },
            "text/plain": [
              "Validation: 0it [00:00, ?it/s]"
            ]
          },
          "metadata": {},
          "output_type": "display_data"
        },
        {
          "data": {
            "application/vnd.jupyter.widget-view+json": {
              "model_id": "a41c8287e2b9456c8c99a35b1b3cdbd5",
              "version_major": 2,
              "version_minor": 0
            },
            "text/plain": [
              "Validation: 0it [00:00, ?it/s]"
            ]
          },
          "metadata": {},
          "output_type": "display_data"
        },
        {
          "data": {
            "application/vnd.jupyter.widget-view+json": {
              "model_id": "e424da7ebc304717a3c043d38d6ad79a",
              "version_major": 2,
              "version_minor": 0
            },
            "text/plain": [
              "Validation: 0it [00:00, ?it/s]"
            ]
          },
          "metadata": {},
          "output_type": "display_data"
        },
        {
          "name": "stdout",
          "output_type": "stream",
          "text": [
            "{'mlm/loss': tensor(1.6991), 'mlm/valid_mlm_loss': tensor(1.6794), 'mlm/train_mlm_loss': tensor(1.7239)}\n",
            "CPU times: total: 54.4 s\n",
            "Wall time: 55.5 s\n"
          ]
        }
      ],
      "source": [
        "%%time\n",
        "print(f'logger.version = {trainer.logger.version}')\n",
        "trainer.fit(model, train_dl)\n",
        "print(trainer.logged_metrics)"
      ]
    },
    {
      "cell_type": "code",
      "execution_count": 189,
      "id": "b0dc87af",
      "metadata": {},
      "outputs": [
        {
          "name": "stdout",
          "output_type": "stream",
          "text": [
            "Parameter containing:\n",
            "tensor([[-0.8619, -0.2848, -0.1983,  ..., -0.3491, -2.4682,  0.3766],\n",
            "        [ 0.0749, -0.2794, -0.0122,  ...,  0.3312,  1.2060, -0.1800],\n",
            "        [ 0.7626,  0.2617, -0.0402,  ...,  0.7371,  0.5646,  0.1845],\n",
            "        ...,\n",
            "        [ 0.9389,  0.6027,  0.0989,  ...,  1.2411,  1.2231, -0.4713],\n",
            "        [ 0.0185, -0.3688, -0.7067,  ...,  0.4431,  0.0083,  0.8737],\n",
            "        [-1.0392, -0.2482,  0.4103,  ..., -1.7565, -0.6526,  0.8464]],\n",
            "       requires_grad=True)\n"
          ]
        }
      ],
      "source": [
        "model.trx_encoder.requires_grad_(False)\n",
        "model._seq_encoder.requires_grad_(True)\n",
        "\n",
        "for x in model_downstream._seq_encoder.rnn.parameters():\n",
        "    print(x)\n",
        "    break"
      ]
    },
    {
      "cell_type": "code",
      "execution_count": 185,
      "id": "6e558f25",
      "metadata": {},
      "outputs": [],
      "source": [
        "model_downstream = NextItemPredictionModule(\n",
        "    trx_encoder=TrxEncoder(**trx_encoder_params), # model.trx_encoder,\n",
        "    seq_encoder=seq_encoder, # model._seq_encoder,\n",
        "    target_col='small_group',\n",
        "    max_lr=0.1\n",
        ")"
      ]
    },
    {
      "cell_type": "code",
      "execution_count": 186,
      "id": "bbddfe97",
      "metadata": {},
      "outputs": [
        {
          "name": "stderr",
          "output_type": "stream",
          "text": [
            "GPU available: True, used: True\n",
            "TPU available: False, using: 0 TPU cores\n",
            "IPU available: False, using: 0 IPUs\n",
            "HPU available: False, using: 0 HPUs\n"
          ]
        }
      ],
      "source": [
        "trainer = pl.Trainer(\n",
        "    max_epochs=100,\n",
        "    gpus=1 if torch.cuda.is_available() else 0,\n",
        "    callbacks=[pl.callbacks.EarlyStopping('gpt/valid_gpt_loss', mode='min', patience=10)],\n",
        "    enable_progress_bar=True\n",
        ")"
      ]
    }
  ],
  "metadata": {
    "colab": {
      "provenance": []
    },
    "kernelspec": {
      "display_name": "Python 3",
      "language": "python",
      "name": "python3"
    },
    "language_info": {
      "codemirror_mode": {
        "name": "ipython",
        "version": 3
      },
      "file_extension": ".py",
      "mimetype": "text/x-python",
      "name": "python",
      "nbconvert_exporter": "python",
      "pygments_lexer": "ipython3",
      "version": "3.9.13"
    },
    "vscode": {
      "interpreter": {
        "hash": "cf92aa13fedf815d5c8dd192b8d835913fde3e8bc926b2a0ad6cc74ef2ba3ca2"
      }
    },
    "widgets": {
      "application/vnd.jupyter.widget-state+json": {
        "13b81a84efd14fbca304ef954cc6cd52": {
          "model_module": "@jupyter-widgets/controls",
          "model_module_version": "1.5.0",
          "model_name": "HTMLModel",
          "state": {
            "_dom_classes": [],
            "_model_module": "@jupyter-widgets/controls",
            "_model_module_version": "1.5.0",
            "_model_name": "HTMLModel",
            "_view_count": null,
            "_view_module": "@jupyter-widgets/controls",
            "_view_module_version": "1.5.0",
            "_view_name": "HTMLView",
            "description": "",
            "description_tooltip": null,
            "layout": "IPY_MODEL_51eade651ea94b269a4c50c6617c555f",
            "placeholder": "​",
            "style": "IPY_MODEL_a99f18b281484db4830eb727313e1d5f",
            "value": "Epoch 13:  57%"
          }
        },
        "276448eb91ce45e8ba71d3af80a6425c": {
          "model_module": "@jupyter-widgets/controls",
          "model_module_version": "1.5.0",
          "model_name": "ProgressStyleModel",
          "state": {
            "_model_module": "@jupyter-widgets/controls",
            "_model_module_version": "1.5.0",
            "_model_name": "ProgressStyleModel",
            "_view_count": null,
            "_view_module": "@jupyter-widgets/base",
            "_view_module_version": "1.2.0",
            "_view_name": "StyleView",
            "bar_color": null,
            "description_width": ""
          }
        },
        "285efa1b04ef48a2bd5f68f4bddd6726": {
          "model_module": "@jupyter-widgets/base",
          "model_module_version": "1.2.0",
          "model_name": "LayoutModel",
          "state": {
            "_model_module": "@jupyter-widgets/base",
            "_model_module_version": "1.2.0",
            "_model_name": "LayoutModel",
            "_view_count": null,
            "_view_module": "@jupyter-widgets/base",
            "_view_module_version": "1.2.0",
            "_view_name": "LayoutView",
            "align_content": null,
            "align_items": null,
            "align_self": null,
            "border": null,
            "bottom": null,
            "display": "inline-flex",
            "flex": null,
            "flex_flow": "row wrap",
            "grid_area": null,
            "grid_auto_columns": null,
            "grid_auto_flow": null,
            "grid_auto_rows": null,
            "grid_column": null,
            "grid_gap": null,
            "grid_row": null,
            "grid_template_areas": null,
            "grid_template_columns": null,
            "grid_template_rows": null,
            "height": null,
            "justify_content": null,
            "justify_items": null,
            "left": null,
            "margin": null,
            "max_height": null,
            "max_width": null,
            "min_height": null,
            "min_width": null,
            "object_fit": null,
            "object_position": null,
            "order": null,
            "overflow": null,
            "overflow_x": null,
            "overflow_y": null,
            "padding": null,
            "right": null,
            "top": null,
            "visibility": null,
            "width": "100%"
          }
        },
        "4088def909e74f22bcc436cc085258eb": {
          "model_module": "@jupyter-widgets/controls",
          "model_module_version": "1.5.0",
          "model_name": "HBoxModel",
          "state": {
            "_dom_classes": [],
            "_model_module": "@jupyter-widgets/controls",
            "_model_module_version": "1.5.0",
            "_model_name": "HBoxModel",
            "_view_count": null,
            "_view_module": "@jupyter-widgets/controls",
            "_view_module_version": "1.5.0",
            "_view_name": "HBoxView",
            "box_style": "",
            "children": [
              "IPY_MODEL_13b81a84efd14fbca304ef954cc6cd52",
              "IPY_MODEL_b51eba065e59489c8e10277644661b26",
              "IPY_MODEL_f5ac443da88b4bbd965d956c4274cf26"
            ],
            "layout": "IPY_MODEL_285efa1b04ef48a2bd5f68f4bddd6726"
          }
        },
        "51eade651ea94b269a4c50c6617c555f": {
          "model_module": "@jupyter-widgets/base",
          "model_module_version": "1.2.0",
          "model_name": "LayoutModel",
          "state": {
            "_model_module": "@jupyter-widgets/base",
            "_model_module_version": "1.2.0",
            "_model_name": "LayoutModel",
            "_view_count": null,
            "_view_module": "@jupyter-widgets/base",
            "_view_module_version": "1.2.0",
            "_view_name": "LayoutView",
            "align_content": null,
            "align_items": null,
            "align_self": null,
            "border": null,
            "bottom": null,
            "display": null,
            "flex": null,
            "flex_flow": null,
            "grid_area": null,
            "grid_auto_columns": null,
            "grid_auto_flow": null,
            "grid_auto_rows": null,
            "grid_column": null,
            "grid_gap": null,
            "grid_row": null,
            "grid_template_areas": null,
            "grid_template_columns": null,
            "grid_template_rows": null,
            "height": null,
            "justify_content": null,
            "justify_items": null,
            "left": null,
            "margin": null,
            "max_height": null,
            "max_width": null,
            "min_height": null,
            "min_width": null,
            "object_fit": null,
            "object_position": null,
            "order": null,
            "overflow": null,
            "overflow_x": null,
            "overflow_y": null,
            "padding": null,
            "right": null,
            "top": null,
            "visibility": null,
            "width": null
          }
        },
        "a46a71f7b9ee4207813dd7ea4604ae86": {
          "model_module": "@jupyter-widgets/base",
          "model_module_version": "1.2.0",
          "model_name": "LayoutModel",
          "state": {
            "_model_module": "@jupyter-widgets/base",
            "_model_module_version": "1.2.0",
            "_model_name": "LayoutModel",
            "_view_count": null,
            "_view_module": "@jupyter-widgets/base",
            "_view_module_version": "1.2.0",
            "_view_name": "LayoutView",
            "align_content": null,
            "align_items": null,
            "align_self": null,
            "border": null,
            "bottom": null,
            "display": null,
            "flex": null,
            "flex_flow": null,
            "grid_area": null,
            "grid_auto_columns": null,
            "grid_auto_flow": null,
            "grid_auto_rows": null,
            "grid_column": null,
            "grid_gap": null,
            "grid_row": null,
            "grid_template_areas": null,
            "grid_template_columns": null,
            "grid_template_rows": null,
            "height": null,
            "justify_content": null,
            "justify_items": null,
            "left": null,
            "margin": null,
            "max_height": null,
            "max_width": null,
            "min_height": null,
            "min_width": null,
            "object_fit": null,
            "object_position": null,
            "order": null,
            "overflow": null,
            "overflow_x": null,
            "overflow_y": null,
            "padding": null,
            "right": null,
            "top": null,
            "visibility": null,
            "width": null
          }
        },
        "a99f18b281484db4830eb727313e1d5f": {
          "model_module": "@jupyter-widgets/controls",
          "model_module_version": "1.5.0",
          "model_name": "DescriptionStyleModel",
          "state": {
            "_model_module": "@jupyter-widgets/controls",
            "_model_module_version": "1.5.0",
            "_model_name": "DescriptionStyleModel",
            "_view_count": null,
            "_view_module": "@jupyter-widgets/base",
            "_view_module_version": "1.2.0",
            "_view_name": "StyleView",
            "description_width": ""
          }
        },
        "b51eba065e59489c8e10277644661b26": {
          "model_module": "@jupyter-widgets/controls",
          "model_module_version": "1.5.0",
          "model_name": "FloatProgressModel",
          "state": {
            "_dom_classes": [],
            "_model_module": "@jupyter-widgets/controls",
            "_model_module_version": "1.5.0",
            "_model_name": "FloatProgressModel",
            "_view_count": null,
            "_view_module": "@jupyter-widgets/controls",
            "_view_module_version": "1.5.0",
            "_view_name": "ProgressView",
            "bar_style": "",
            "description": "",
            "description_tooltip": null,
            "layout": "IPY_MODEL_dd49373af6d841b8a013ced02d75818b",
            "max": 94,
            "min": 0,
            "orientation": "horizontal",
            "style": "IPY_MODEL_276448eb91ce45e8ba71d3af80a6425c",
            "value": 54
          }
        },
        "ba82e6d3825144c9b92c945b757ffa49": {
          "model_module": "@jupyter-widgets/controls",
          "model_module_version": "1.5.0",
          "model_name": "DescriptionStyleModel",
          "state": {
            "_model_module": "@jupyter-widgets/controls",
            "_model_module_version": "1.5.0",
            "_model_name": "DescriptionStyleModel",
            "_view_count": null,
            "_view_module": "@jupyter-widgets/base",
            "_view_module_version": "1.2.0",
            "_view_name": "StyleView",
            "description_width": ""
          }
        },
        "dd49373af6d841b8a013ced02d75818b": {
          "model_module": "@jupyter-widgets/base",
          "model_module_version": "1.2.0",
          "model_name": "LayoutModel",
          "state": {
            "_model_module": "@jupyter-widgets/base",
            "_model_module_version": "1.2.0",
            "_model_name": "LayoutModel",
            "_view_count": null,
            "_view_module": "@jupyter-widgets/base",
            "_view_module_version": "1.2.0",
            "_view_name": "LayoutView",
            "align_content": null,
            "align_items": null,
            "align_self": null,
            "border": null,
            "bottom": null,
            "display": null,
            "flex": "2",
            "flex_flow": null,
            "grid_area": null,
            "grid_auto_columns": null,
            "grid_auto_flow": null,
            "grid_auto_rows": null,
            "grid_column": null,
            "grid_gap": null,
            "grid_row": null,
            "grid_template_areas": null,
            "grid_template_columns": null,
            "grid_template_rows": null,
            "height": null,
            "justify_content": null,
            "justify_items": null,
            "left": null,
            "margin": null,
            "max_height": null,
            "max_width": null,
            "min_height": null,
            "min_width": null,
            "object_fit": null,
            "object_position": null,
            "order": null,
            "overflow": null,
            "overflow_x": null,
            "overflow_y": null,
            "padding": null,
            "right": null,
            "top": null,
            "visibility": null,
            "width": null
          }
        },
        "f5ac443da88b4bbd965d956c4274cf26": {
          "model_module": "@jupyter-widgets/controls",
          "model_module_version": "1.5.0",
          "model_name": "HTMLModel",
          "state": {
            "_dom_classes": [],
            "_model_module": "@jupyter-widgets/controls",
            "_model_module_version": "1.5.0",
            "_model_name": "HTMLModel",
            "_view_count": null,
            "_view_module": "@jupyter-widgets/controls",
            "_view_module_version": "1.5.0",
            "_view_name": "HTMLView",
            "description": "",
            "description_tooltip": null,
            "layout": "IPY_MODEL_a46a71f7b9ee4207813dd7ea4604ae86",
            "placeholder": "​",
            "style": "IPY_MODEL_ba82e6d3825144c9b92c945b757ffa49",
            "value": " 54/94 [01:07&lt;00:50,  1.26s/it, loss=12.1, v_num=3]"
          }
        }
      }
    }
  },
  "nbformat": 4,
  "nbformat_minor": 5
}
