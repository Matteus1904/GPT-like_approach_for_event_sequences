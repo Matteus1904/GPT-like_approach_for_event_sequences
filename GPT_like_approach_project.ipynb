{
  "cells": [
    {
      "cell_type": "markdown",
      "id": "8a795c70",
      "metadata": {
        "id": "8a795c70"
      },
      "source": [
        "# Colab setup"
      ]
    },
    {
      "cell_type": "code",
      "execution_count": 1,
      "id": "8b6cedd5",
      "metadata": {
        "id": "8b6cedd5"
      },
      "outputs": [],
      "source": [
        "# if 'google.colab' in str(get_ipython()):\n",
        "#     !pip install pytorch-lifestream"
      ]
    },
    {
      "cell_type": "code",
      "execution_count": 2,
      "id": "Em3-s0dLH5zB",
      "metadata": {
        "id": "Em3-s0dLH5zB"
      },
      "outputs": [],
      "source": [
        "# !pip install lightning"
      ]
    },
    {
      "cell_type": "markdown",
      "id": "a7431993",
      "metadata": {
        "id": "a7431993"
      },
      "source": [
        "## Data load"
      ]
    },
    {
      "cell_type": "code",
      "execution_count": 8,
      "id": "86d984d6",
      "metadata": {},
      "outputs": [
        {
          "name": "stderr",
          "output_type": "stream",
          "text": [
            "The syntax of the command is incorrect.\n",
            "  % Total    % Received % Xferd  Average Speed   Time    Time     Time  Current\n",
            "                                 Dload  Upload   Total   Spent    Left  Speed\n",
            "\n",
            "  0     0    0     0    0     0      0      0 --:--:-- --:--:-- --:--:--     0\n",
            " 29 8979k   29 2683k    0     0  2683k      0  0:00:03 --:--:--  0:00:03 2958k\n",
            " 54 8979k   54 4931k    0     0  4931k      0  0:00:01  0:00:01 --:--:-- 2586k\n",
            " 71 8979k   71 6409k    0     0  3204k      0  0:00:02  0:00:02 --:--:-- 2204k\n",
            " 85 8979k   85 7670k    0     0  2556k      0  0:00:03  0:00:03 --:--:-- 1963k\n",
            " 98 8979k   98 8825k    0     0  2206k      0  0:00:04  0:00:04 --:--:-- 1798k\n",
            "100 8979k  100 8979k    0     0  1795k      0  0:00:05  0:00:05 --:--:-- 1532k\n",
            "'unzip' is not recognized as an internal or external command,\n",
            "operable program or batch file.\n",
            "'mv' is not recognized as an internal or external command,\n",
            "operable program or batch file.\n"
          ]
        }
      ],
      "source": [
        "# import os\n",
        "\n",
        "# if not os.path.exists('data/rosbank/train.csv'):\n",
        "#     !mkdir -p data/rosbank\n",
        "#     !curl -OL https://storage.yandexcloud.net/di-datasets/rosbank-ml-contest-boosters.pro.zip\n",
        "#     !unzip -j -o rosbank-ml-contest-boosters.pro.zip 'data/*.csv' -d data/rosbank\n",
        "#     !mv age-prediction-nti-sbebank-2019.zip data/rosbank/"
      ]
    },
    {
      "cell_type": "markdown",
      "id": "9e91a902",
      "metadata": {
        "id": "9e91a902"
      },
      "source": [
        "## Setup"
      ]
    },
    {
      "cell_type": "code",
      "execution_count": 99,
      "id": "587df1ea",
      "metadata": {
        "execution": {
          "iopub.execute_input": "2022-05-04T18:11:04.590559Z",
          "iopub.status.busy": "2022-05-04T18:11:04.590097Z",
          "iopub.status.idle": "2022-05-04T18:11:06.256016Z",
          "shell.execute_reply": "2022-05-04T18:11:06.255464Z"
        },
        "id": "587df1ea"
      },
      "outputs": [
        {
          "name": "stdout",
          "output_type": "stream",
          "text": [
            "The autoreload extension is already loaded. To reload it, use:\n",
            "  %reload_ext autoreload\n"
          ]
        }
      ],
      "source": [
        "%load_ext autoreload\n",
        "%autoreload 2\n",
        "\n",
        "import torch\n",
        "import torch.nn as nn\n",
        "import pytorch_lightning as pl\n",
        "\n",
        "from sklearn.preprocessing import KBinsDiscretizer\n",
        "from sklearn.model_selection import train_test_split\n",
        "\n",
        "from models import GptPretrainContrastiveModule, NextItemPredictionModule\n",
        "\n",
        "from ptls.nn import TrxEncoder, RnnEncoder\n",
        "from ptls.frames.gpt import GptPretrainModule, GptDataset\n",
        "from ptls.preprocessing import PandasDataPreprocessor\n",
        "from ptls.data_load.datasets import MemoryMapDataset\n",
        "from ptls.data_load.iterable_processing import SeqLenFilter\n",
        "from ptls.frames import PtlsDataModule\n",
        "\n",
        "from dataset import MlmNoSliceDataset\n",
        "\n",
        "import os\n",
        "import pandas as pd"
      ]
    },
    {
      "cell_type": "markdown",
      "id": "82f989bc",
      "metadata": {
        "id": "82f989bc"
      },
      "source": [
        "## Data preproccessing"
      ]
    },
    {
      "cell_type": "code",
      "execution_count": 100,
      "id": "7e06bd27",
      "metadata": {
        "colab": {
          "base_uri": "https://localhost:8080/",
          "height": 112
        },
        "execution": {
          "iopub.execute_input": "2022-05-04T18:11:06.260046Z",
          "iopub.status.busy": "2022-05-04T18:11:06.259544Z",
          "iopub.status.idle": "2022-05-04T18:11:12.319460Z",
          "shell.execute_reply": "2022-05-04T18:11:12.317693Z"
        },
        "id": "7e06bd27",
        "outputId": "b070264a-4f29-4087-9214-6f5bf34af76f"
      },
      "outputs": [
        {
          "data": {
            "text/html": [
              "<div>\n",
              "<style scoped>\n",
              "    .dataframe tbody tr th:only-of-type {\n",
              "        vertical-align: middle;\n",
              "    }\n",
              "\n",
              "    .dataframe tbody tr th {\n",
              "        vertical-align: top;\n",
              "    }\n",
              "\n",
              "    .dataframe thead th {\n",
              "        text-align: right;\n",
              "    }\n",
              "</style>\n",
              "<table border=\"1\" class=\"dataframe\">\n",
              "  <thead>\n",
              "    <tr style=\"text-align: right;\">\n",
              "      <th></th>\n",
              "      <th>PERIOD</th>\n",
              "      <th>client_id</th>\n",
              "      <th>small_group</th>\n",
              "      <th>channel_type</th>\n",
              "      <th>currency</th>\n",
              "      <th>TRDATETIME</th>\n",
              "      <th>amount_rur</th>\n",
              "      <th>trx_category</th>\n",
              "      <th>target_flag</th>\n",
              "      <th>target_sum</th>\n",
              "    </tr>\n",
              "  </thead>\n",
              "  <tbody>\n",
              "    <tr>\n",
              "      <th>26790</th>\n",
              "      <td>01/10/2016</td>\n",
              "      <td>485</td>\n",
              "      <td>4121</td>\n",
              "      <td>type2</td>\n",
              "      <td>810</td>\n",
              "      <td>2016-10-07 00:00:00</td>\n",
              "      <td>242.0</td>\n",
              "      <td>POS</td>\n",
              "      <td>1</td>\n",
              "      <td>85.00</td>\n",
              "    </tr>\n",
              "    <tr>\n",
              "      <th>72077</th>\n",
              "      <td>01/10/2016</td>\n",
              "      <td>1290</td>\n",
              "      <td>5411</td>\n",
              "      <td>type2</td>\n",
              "      <td>810</td>\n",
              "      <td>2016-10-07 00:00:00</td>\n",
              "      <td>2465.0</td>\n",
              "      <td>POS</td>\n",
              "      <td>1</td>\n",
              "      <td>321242.09</td>\n",
              "    </tr>\n",
              "    <tr>\n",
              "      <th>26988</th>\n",
              "      <td>01/10/2016</td>\n",
              "      <td>485</td>\n",
              "      <td>6011</td>\n",
              "      <td>type2</td>\n",
              "      <td>810</td>\n",
              "      <td>2016-10-07 00:00:00</td>\n",
              "      <td>3600.0</td>\n",
              "      <td>WD_ATM_PARTNER</td>\n",
              "      <td>1</td>\n",
              "      <td>85.00</td>\n",
              "    </tr>\n",
              "    <tr>\n",
              "      <th>72068</th>\n",
              "      <td>01/10/2016</td>\n",
              "      <td>1290</td>\n",
              "      <td>6011</td>\n",
              "      <td>type2</td>\n",
              "      <td>810</td>\n",
              "      <td>2016-10-07 18:57:17</td>\n",
              "      <td>10000.0</td>\n",
              "      <td>WD_ATM_ROS</td>\n",
              "      <td>1</td>\n",
              "      <td>321242.09</td>\n",
              "    </tr>\n",
              "    <tr>\n",
              "      <th>189585</th>\n",
              "      <td>01/10/2016</td>\n",
              "      <td>3351</td>\n",
              "      <td>8999</td>\n",
              "      <td>type3</td>\n",
              "      <td>810</td>\n",
              "      <td>2016-10-08 00:00:00</td>\n",
              "      <td>10000.0</td>\n",
              "      <td>POS</td>\n",
              "      <td>0</td>\n",
              "      <td>0.00</td>\n",
              "    </tr>\n",
              "  </tbody>\n",
              "</table>\n",
              "</div>"
            ],
            "text/plain": [
              "            PERIOD  client_id  small_group channel_type  currency  \\\n",
              "26790   01/10/2016        485         4121        type2       810   \n",
              "72077   01/10/2016       1290         5411        type2       810   \n",
              "26988   01/10/2016        485         6011        type2       810   \n",
              "72068   01/10/2016       1290         6011        type2       810   \n",
              "189585  01/10/2016       3351         8999        type3       810   \n",
              "\n",
              "                TRDATETIME  amount_rur    trx_category  target_flag  \\\n",
              "26790  2016-10-07 00:00:00       242.0             POS            1   \n",
              "72077  2016-10-07 00:00:00      2465.0             POS            1   \n",
              "26988  2016-10-07 00:00:00      3600.0  WD_ATM_PARTNER            1   \n",
              "72068  2016-10-07 18:57:17     10000.0      WD_ATM_ROS            1   \n",
              "189585 2016-10-08 00:00:00     10000.0             POS            0   \n",
              "\n",
              "        target_sum  \n",
              "26790        85.00  \n",
              "72077    321242.09  \n",
              "26988        85.00  \n",
              "72068    321242.09  \n",
              "189585        0.00  "
            ]
          },
          "execution_count": 100,
          "metadata": {},
          "output_type": "execute_result"
        }
      ],
      "source": [
        "data_path = 'data/rosbank'\n",
        "\n",
        "source_data = pd.read_csv(os.path.join(data_path, 'train.csv'))\n",
        "source_data['TRDATETIME'] = pd.to_datetime(source_data['TRDATETIME'], format='%d%b%y:%H:%M:%S')\n",
        "source_data = source_data.sort_values(by=['TRDATETIME'])\n",
        "source_data = source_data.rename(columns={'cl_id':'client_id', 'MCC':'small_group', 'amount':'amount_rur'})\n",
        "source_data.head()"
      ]
    },
    {
      "cell_type": "code",
      "execution_count": 101,
      "id": "6735f933",
      "metadata": {},
      "outputs": [],
      "source": [
        "mcc_to_id = {mcc: i+1 for i, mcc in enumerate(source_data['small_group'].unique())}\n",
        "\n",
        "source_data['amount_rur_bin'] = 1 + KBinsDiscretizer(10, encode='ordinal', subsample=None).fit_transform(source_data[['amount_rur']]).astype('int')\n",
        "source_data['small_group'] = source_data['small_group'].map(mcc_to_id)"
      ]
    },
    {
      "cell_type": "code",
      "execution_count": 102,
      "id": "8615b722",
      "metadata": {
        "execution": {
          "iopub.execute_input": "2022-05-04T18:11:12.324005Z",
          "iopub.status.busy": "2022-05-04T18:11:12.323387Z",
          "iopub.status.idle": "2022-05-04T18:11:12.376973Z",
          "shell.execute_reply": "2022-05-04T18:11:12.376546Z"
        },
        "id": "8615b722"
      },
      "outputs": [],
      "source": [
        "preprocessor = PandasDataPreprocessor(\n",
        "    col_id='client_id',\n",
        "    col_event_time='TRDATETIME',\n",
        "    event_time_transformation='dt_to_timestamp',\n",
        "    cols_category=['small_group'],\n",
        "    cols_numerical=['amount_rur_bin'],\n",
        "    return_records=True,\n",
        ")"
      ]
    },
    {
      "cell_type": "code",
      "execution_count": 103,
      "id": "fca72f6e",
      "metadata": {
        "colab": {
          "base_uri": "https://localhost:8080/"
        },
        "execution": {
          "iopub.execute_input": "2022-05-04T18:11:12.380482Z",
          "iopub.status.busy": "2022-05-04T18:11:12.380011Z",
          "iopub.status.idle": "2022-05-04T18:12:29.766372Z",
          "shell.execute_reply": "2022-05-04T18:12:29.766793Z"
        },
        "id": "fca72f6e",
        "outputId": "725b7379-aa49-4fc5-8a41-ca8979888ef1"
      },
      "outputs": [
        {
          "name": "stdout",
          "output_type": "stream",
          "text": [
            "CPU times: total: 2.14 s\n",
            "Wall time: 2.18 s\n"
          ]
        }
      ],
      "source": [
        "%%time\n",
        "\n",
        "dataset = preprocessor.fit_transform(source_data[['client_id', 'TRDATETIME', 'small_group', 'amount_rur_bin']])"
      ]
    },
    {
      "cell_type": "code",
      "execution_count": 104,
      "id": "0e4ca12d",
      "metadata": {
        "id": "0e4ca12d"
      },
      "outputs": [],
      "source": [
        "dataset = sorted(dataset, key=lambda x: x['client_id'])"
      ]
    },
    {
      "cell_type": "code",
      "execution_count": 105,
      "id": "98e7d39d",
      "metadata": {
        "colab": {
          "base_uri": "https://localhost:8080/"
        },
        "execution": {
          "iopub.execute_input": "2022-05-04T18:12:29.770820Z",
          "iopub.status.busy": "2022-05-04T18:12:29.770330Z",
          "iopub.status.idle": "2022-05-04T18:12:30.164858Z",
          "shell.execute_reply": "2022-05-04T18:12:30.165297Z"
        },
        "id": "98e7d39d",
        "outputId": "85da48c1-2992-4a08-e89e-68dda424f8d4"
      },
      "outputs": [
        {
          "data": {
            "text/plain": [
              "(3200, 800, 1000)"
            ]
          },
          "execution_count": 105,
          "metadata": {},
          "output_type": "execute_result"
        }
      ],
      "source": [
        "train_valid, test = train_test_split(dataset, test_size=0.2, random_state=42)\n",
        "\n",
        "train, valid = train_test_split(train_valid, test_size=0.2, random_state=42)\n",
        "len(train), len(valid), len(test)"
      ]
    },
    {
      "cell_type": "code",
      "execution_count": 8,
      "id": "5af110e1",
      "metadata": {
        "colab": {
          "base_uri": "https://localhost:8080/"
        },
        "id": "5af110e1",
        "outputId": "698da14d-523c-4326-faf5-1640c4b75664"
      },
      "outputs": [],
      "source": [
        "train_dl = PtlsDataModule(\n",
        "    train_data=GptDataset(\n",
        "        MemoryMapDataset(\n",
        "            data=train,\n",
        "            # i_filters=[\n",
        "            #     SeqLenFilter(min_seq_len=25),\n",
        "            # ],\n",
        "        ),\n",
        "        min_len=25, \n",
        "        max_len=200\n",
        "    ),\n",
        "    valid_data=MlmNoSliceDataset(\n",
        "        MemoryMapDataset(\n",
        "            data=valid,\n",
        "            # i_filters=[\n",
        "            #     SeqLenFilter(min_seq_len=25),\n",
        "            # ],\n",
        "        ),\n",
        "    ),\n",
        "    test_data=MlmNoSliceDataset(\n",
        "        MemoryMapDataset(\n",
        "            data=test,\n",
        "            # i_filters=[\n",
        "            #     SeqLenFilter(min_seq_len=25),\n",
        "            # ],\n",
        "        ),\n",
        "    ),\n",
        "    train_batch_size=128,\n",
        ")"
      ]
    },
    {
      "attachments": {},
      "cell_type": "markdown",
      "id": "f9080a6f",
      "metadata": {
        "id": "f9080a6f"
      },
      "source": [
        "## Embedding training (representation)"
      ]
    },
    {
      "cell_type": "markdown",
      "id": "56493c0b",
      "metadata": {
        "id": "56493c0b"
      },
      "source": [
        "Model training in our framework organised via pytorch-lightning (pl) framework.\n",
        "The key parts of neural networks training in pl are: \n",
        "\n",
        "    * model (`pytorch_lightning.LightningModule`)\n",
        "    * data loader (`torch.utils.data.DataLoader`)\n",
        "    * trainer (`pytorch_lightning.Trainer`)\n",
        "    \n",
        "For futher details check https://pytorchlightning.ai/"
      ]
    },
    {
      "cell_type": "code",
      "execution_count": 19,
      "id": "Mly1BWDITvF-",
      "metadata": {
        "colab": {
          "base_uri": "https://localhost:8080/"
        },
        "id": "Mly1BWDITvF-",
        "outputId": "0b640b0e-d5d3-499b-e822-740f5d2af498"
      },
      "outputs": [
        {
          "name": "stdout",
          "output_type": "stream",
          "text": [
            "Number of unique MCC codes: 344\n"
          ]
        }
      ],
      "source": [
        "print(\"Number of unique MCC codes:\", source_data['small_group'].max())"
      ]
    },
    {
      "cell_type": "markdown",
      "id": "43a6ee58",
      "metadata": {
        "id": "43a6ee58"
      },
      "source": [
        "### Model definition"
      ]
    },
    {
      "cell_type": "code",
      "execution_count": 20,
      "id": "61ead7d3",
      "metadata": {},
      "outputs": [],
      "source": [
        "trx_encoder_params = dict(\n",
        "    embeddings_noise=0.0,\n",
        "    embeddings={\n",
        "        'small_group': {'in': 350, 'out': 16},\n",
        "        'amount_rur_bin':{'in': 60, 'out': 16}\n",
        "    },\n",
        ")\n",
        "\n",
        "seq_encoder = RnnEncoder(\n",
        "        input_size=32,\n",
        "        hidden_size=32,\n",
        "        type='gru',\n",
        ")\n",
        "\n",
        "model = GptPretrainModule(\n",
        "    trx_encoder=TrxEncoder(**trx_encoder_params),\n",
        "    seq_encoder=seq_encoder,\n",
        "    max_lr=0.1\n",
        ")"
      ]
    },
    {
      "attachments": {},
      "cell_type": "markdown",
      "id": "8135513b",
      "metadata": {},
      "source": [
        "### Pre-training"
      ]
    },
    {
      "cell_type": "code",
      "execution_count": 21,
      "id": "b22b6b2a",
      "metadata": {},
      "outputs": [
        {
          "name": "stderr",
          "output_type": "stream",
          "text": [
            "GPU available: True, used: True\n",
            "TPU available: False, using: 0 TPU cores\n",
            "IPU available: False, using: 0 IPUs\n",
            "HPU available: False, using: 0 HPUs\n"
          ]
        }
      ],
      "source": [
        "trainer = pl.Trainer(\n",
        "    max_epochs=100,\n",
        "    gpus=1 if torch.cuda.is_available() else 0,\n",
        "    callbacks=[pl.callbacks.EarlyStopping('gpt/valid_gpt_loss')],\n",
        "    enable_progress_bar=True,\n",
        ")"
      ]
    },
    {
      "cell_type": "code",
      "execution_count": 22,
      "id": "ef1e4af6",
      "metadata": {},
      "outputs": [
        {
          "name": "stderr",
          "output_type": "stream",
          "text": [
            "LOCAL_RANK: 0 - CUDA_VISIBLE_DEVICES: [0]\n",
            "\n",
            "  | Name           | Type             | Params\n",
            "----------------------------------------------------\n",
            "0 | trx_encoder    | TrxEncoder       | 6.6 K \n",
            "1 | _seq_encoder   | RnnEncoder       | 6.4 K \n",
            "2 | head           | ModuleDict       | 30.9 K\n",
            "3 | loss           | CrossEntropyLoss | 0     \n",
            "4 | train_gpt_loss | MeanMetric       | 0     \n",
            "5 | valid_gpt_loss | MeanMetric       | 0     \n",
            "----------------------------------------------------\n",
            "43.8 K    Trainable params\n",
            "0         Non-trainable params\n",
            "43.8 K    Total params\n",
            "0.175     Total estimated model params size (MB)\n"
          ]
        },
        {
          "name": "stdout",
          "output_type": "stream",
          "text": [
            "logger.version = 94\n"
          ]
        },
        {
          "data": {
            "application/vnd.jupyter.widget-view+json": {
              "model_id": "cd673e510c6744d7abec31fca827324d",
              "version_major": 2,
              "version_minor": 0
            },
            "text/plain": [
              "Sanity Checking: 0it [00:00, ?it/s]"
            ]
          },
          "metadata": {},
          "output_type": "display_data"
        },
        {
          "name": "stderr",
          "output_type": "stream",
          "text": [
            "c:\\Users\\User\\AppData\\Local\\Programs\\Python\\Python39\\lib\\site-packages\\pytorch_lightning\\trainer\\connectors\\data_connector.py:240: PossibleUserWarning: The dataloader, val_dataloader 0, does not have many workers which may be a bottleneck. Consider increasing the value of the `num_workers` argument` (try 12 which is the number of cpus on this machine) in the `DataLoader` init to improve performance.\n",
            "  rank_zero_warn(\n",
            "c:\\Users\\User\\AppData\\Local\\Programs\\Python\\Python39\\lib\\site-packages\\pytorch_lightning\\trainer\\connectors\\data_connector.py:240: PossibleUserWarning: The dataloader, train_dataloader, does not have many workers which may be a bottleneck. Consider increasing the value of the `num_workers` argument` (try 12 which is the number of cpus on this machine) in the `DataLoader` init to improve performance.\n",
            "  rank_zero_warn(\n",
            "c:\\Users\\User\\AppData\\Local\\Programs\\Python\\Python39\\lib\\site-packages\\pytorch_lightning\\trainer\\trainer.py:1933: PossibleUserWarning: The number of training batches (25) is smaller than the logging interval Trainer(log_every_n_steps=50). Set a lower value for log_every_n_steps if you want to see logs for the training epoch.\n",
            "  rank_zero_warn(\n"
          ]
        },
        {
          "data": {
            "application/vnd.jupyter.widget-view+json": {
              "model_id": "b00d79415a834e12903cfb31f833e3ce",
              "version_major": 2,
              "version_minor": 0
            },
            "text/plain": [
              "Training: 0it [00:00, ?it/s]"
            ]
          },
          "metadata": {},
          "output_type": "display_data"
        },
        {
          "data": {
            "application/vnd.jupyter.widget-view+json": {
              "model_id": "6d151b8adaa54ee0b719ac32147d5a53",
              "version_major": 2,
              "version_minor": 0
            },
            "text/plain": [
              "Validation: 0it [00:00, ?it/s]"
            ]
          },
          "metadata": {},
          "output_type": "display_data"
        },
        {
          "data": {
            "application/vnd.jupyter.widget-view+json": {
              "model_id": "a2010fafc1a844b3833f4648c6185045",
              "version_major": 2,
              "version_minor": 0
            },
            "text/plain": [
              "Validation: 0it [00:00, ?it/s]"
            ]
          },
          "metadata": {},
          "output_type": "display_data"
        },
        {
          "data": {
            "application/vnd.jupyter.widget-view+json": {
              "model_id": "797cf71aace94c8483978503970388cb",
              "version_major": 2,
              "version_minor": 0
            },
            "text/plain": [
              "Validation: 0it [00:00, ?it/s]"
            ]
          },
          "metadata": {},
          "output_type": "display_data"
        },
        {
          "data": {
            "application/vnd.jupyter.widget-view+json": {
              "model_id": "0bbf8432f1b9454f96285843722974e5",
              "version_major": 2,
              "version_minor": 0
            },
            "text/plain": [
              "Validation: 0it [00:00, ?it/s]"
            ]
          },
          "metadata": {},
          "output_type": "display_data"
        },
        {
          "data": {
            "application/vnd.jupyter.widget-view+json": {
              "model_id": "5639e1f85b8c4ac2877210186f0dd031",
              "version_major": 2,
              "version_minor": 0
            },
            "text/plain": [
              "Validation: 0it [00:00, ?it/s]"
            ]
          },
          "metadata": {},
          "output_type": "display_data"
        },
        {
          "data": {
            "application/vnd.jupyter.widget-view+json": {
              "model_id": "54f24142132044f09a39e88458c508ef",
              "version_major": 2,
              "version_minor": 0
            },
            "text/plain": [
              "Validation: 0it [00:00, ?it/s]"
            ]
          },
          "metadata": {},
          "output_type": "display_data"
        },
        {
          "data": {
            "application/vnd.jupyter.widget-view+json": {
              "model_id": "791d6cfabe1240368b30acafcb31bc54",
              "version_major": 2,
              "version_minor": 0
            },
            "text/plain": [
              "Validation: 0it [00:00, ?it/s]"
            ]
          },
          "metadata": {},
          "output_type": "display_data"
        },
        {
          "data": {
            "application/vnd.jupyter.widget-view+json": {
              "model_id": "0a5501ccd52b490bb6700d1e447b7f99",
              "version_major": 2,
              "version_minor": 0
            },
            "text/plain": [
              "Validation: 0it [00:00, ?it/s]"
            ]
          },
          "metadata": {},
          "output_type": "display_data"
        },
        {
          "data": {
            "application/vnd.jupyter.widget-view+json": {
              "model_id": "fc25176897d94092aa3449799688b661",
              "version_major": 2,
              "version_minor": 0
            },
            "text/plain": [
              "Validation: 0it [00:00, ?it/s]"
            ]
          },
          "metadata": {},
          "output_type": "display_data"
        },
        {
          "data": {
            "application/vnd.jupyter.widget-view+json": {
              "model_id": "05856aafcc794a6c9bb263bd84ceea30",
              "version_major": 2,
              "version_minor": 0
            },
            "text/plain": [
              "Validation: 0it [00:00, ?it/s]"
            ]
          },
          "metadata": {},
          "output_type": "display_data"
        },
        {
          "data": {
            "application/vnd.jupyter.widget-view+json": {
              "model_id": "2c479aa8f0904fce91c8d3a675f8d9b7",
              "version_major": 2,
              "version_minor": 0
            },
            "text/plain": [
              "Validation: 0it [00:00, ?it/s]"
            ]
          },
          "metadata": {},
          "output_type": "display_data"
        },
        {
          "data": {
            "application/vnd.jupyter.widget-view+json": {
              "model_id": "8cdf4e231a074f7082f13fd0d0888d31",
              "version_major": 2,
              "version_minor": 0
            },
            "text/plain": [
              "Validation: 0it [00:00, ?it/s]"
            ]
          },
          "metadata": {},
          "output_type": "display_data"
        },
        {
          "data": {
            "application/vnd.jupyter.widget-view+json": {
              "model_id": "ef12c4238dab48b2adac4501fa275ee2",
              "version_major": 2,
              "version_minor": 0
            },
            "text/plain": [
              "Validation: 0it [00:00, ?it/s]"
            ]
          },
          "metadata": {},
          "output_type": "display_data"
        },
        {
          "data": {
            "application/vnd.jupyter.widget-view+json": {
              "model_id": "6e613f76cecf4da2bf03f78a224bb562",
              "version_major": 2,
              "version_minor": 0
            },
            "text/plain": [
              "Validation: 0it [00:00, ?it/s]"
            ]
          },
          "metadata": {},
          "output_type": "display_data"
        },
        {
          "data": {
            "application/vnd.jupyter.widget-view+json": {
              "model_id": "fd0f72dd77b449e0ac0d37ea47832d3a",
              "version_major": 2,
              "version_minor": 0
            },
            "text/plain": [
              "Validation: 0it [00:00, ?it/s]"
            ]
          },
          "metadata": {},
          "output_type": "display_data"
        },
        {
          "data": {
            "application/vnd.jupyter.widget-view+json": {
              "model_id": "91143c5450d74254ba94ea96da7b1368",
              "version_major": 2,
              "version_minor": 0
            },
            "text/plain": [
              "Validation: 0it [00:00, ?it/s]"
            ]
          },
          "metadata": {},
          "output_type": "display_data"
        },
        {
          "data": {
            "application/vnd.jupyter.widget-view+json": {
              "model_id": "f91f190bf40541b492b2ea5e15a4a97d",
              "version_major": 2,
              "version_minor": 0
            },
            "text/plain": [
              "Validation: 0it [00:00, ?it/s]"
            ]
          },
          "metadata": {},
          "output_type": "display_data"
        },
        {
          "data": {
            "application/vnd.jupyter.widget-view+json": {
              "model_id": "88eb7cd3b8074c989c319b4ff49cc05e",
              "version_major": 2,
              "version_minor": 0
            },
            "text/plain": [
              "Validation: 0it [00:00, ?it/s]"
            ]
          },
          "metadata": {},
          "output_type": "display_data"
        },
        {
          "data": {
            "application/vnd.jupyter.widget-view+json": {
              "model_id": "a941a4884694486ea5e361956c7b7ba9",
              "version_major": 2,
              "version_minor": 0
            },
            "text/plain": [
              "Validation: 0it [00:00, ?it/s]"
            ]
          },
          "metadata": {},
          "output_type": "display_data"
        },
        {
          "data": {
            "application/vnd.jupyter.widget-view+json": {
              "model_id": "df836fd0effd4d0babdbc366c48c10b9",
              "version_major": 2,
              "version_minor": 0
            },
            "text/plain": [
              "Validation: 0it [00:00, ?it/s]"
            ]
          },
          "metadata": {},
          "output_type": "display_data"
        },
        {
          "data": {
            "application/vnd.jupyter.widget-view+json": {
              "model_id": "f95c1887bed147c5b00d73005043b6f1",
              "version_major": 2,
              "version_minor": 0
            },
            "text/plain": [
              "Validation: 0it [00:00, ?it/s]"
            ]
          },
          "metadata": {},
          "output_type": "display_data"
        },
        {
          "data": {
            "application/vnd.jupyter.widget-view+json": {
              "model_id": "1ce5b9a8472348af9bb9efb5a9a351e6",
              "version_major": 2,
              "version_minor": 0
            },
            "text/plain": [
              "Validation: 0it [00:00, ?it/s]"
            ]
          },
          "metadata": {},
          "output_type": "display_data"
        },
        {
          "data": {
            "application/vnd.jupyter.widget-view+json": {
              "model_id": "eb08a425efb341aaaf16df22af58ec58",
              "version_major": 2,
              "version_minor": 0
            },
            "text/plain": [
              "Validation: 0it [00:00, ?it/s]"
            ]
          },
          "metadata": {},
          "output_type": "display_data"
        },
        {
          "data": {
            "application/vnd.jupyter.widget-view+json": {
              "model_id": "d481d4312b424267bc7e015fe92f200a",
              "version_major": 2,
              "version_minor": 0
            },
            "text/plain": [
              "Validation: 0it [00:00, ?it/s]"
            ]
          },
          "metadata": {},
          "output_type": "display_data"
        },
        {
          "data": {
            "application/vnd.jupyter.widget-view+json": {
              "model_id": "d144c4b3aaff49ef93fb3d0cf04f483a",
              "version_major": 2,
              "version_minor": 0
            },
            "text/plain": [
              "Validation: 0it [00:00, ?it/s]"
            ]
          },
          "metadata": {},
          "output_type": "display_data"
        },
        {
          "data": {
            "application/vnd.jupyter.widget-view+json": {
              "model_id": "18cbb01cb813451d9c62f9f5b0cfb72b",
              "version_major": 2,
              "version_minor": 0
            },
            "text/plain": [
              "Validation: 0it [00:00, ?it/s]"
            ]
          },
          "metadata": {},
          "output_type": "display_data"
        },
        {
          "data": {
            "application/vnd.jupyter.widget-view+json": {
              "model_id": "6cea71d3f09f44199b351a54263186cb",
              "version_major": 2,
              "version_minor": 0
            },
            "text/plain": [
              "Validation: 0it [00:00, ?it/s]"
            ]
          },
          "metadata": {},
          "output_type": "display_data"
        },
        {
          "data": {
            "application/vnd.jupyter.widget-view+json": {
              "model_id": "33dcc9f136df4c928a5f7297d81ebe60",
              "version_major": 2,
              "version_minor": 0
            },
            "text/plain": [
              "Validation: 0it [00:00, ?it/s]"
            ]
          },
          "metadata": {},
          "output_type": "display_data"
        },
        {
          "data": {
            "application/vnd.jupyter.widget-view+json": {
              "model_id": "31fb1d9476c44ebb8b4886f0e2360c3e",
              "version_major": 2,
              "version_minor": 0
            },
            "text/plain": [
              "Validation: 0it [00:00, ?it/s]"
            ]
          },
          "metadata": {},
          "output_type": "display_data"
        },
        {
          "data": {
            "application/vnd.jupyter.widget-view+json": {
              "model_id": "d6c4c44f3ce94cd887aef53439af0e26",
              "version_major": 2,
              "version_minor": 0
            },
            "text/plain": [
              "Validation: 0it [00:00, ?it/s]"
            ]
          },
          "metadata": {},
          "output_type": "display_data"
        },
        {
          "data": {
            "application/vnd.jupyter.widget-view+json": {
              "model_id": "cfa467d26d5649d8bb5e5dc3d1ff52c4",
              "version_major": 2,
              "version_minor": 0
            },
            "text/plain": [
              "Validation: 0it [00:00, ?it/s]"
            ]
          },
          "metadata": {},
          "output_type": "display_data"
        },
        {
          "data": {
            "application/vnd.jupyter.widget-view+json": {
              "model_id": "130802b8e34840e3b760ee551996073f",
              "version_major": 2,
              "version_minor": 0
            },
            "text/plain": [
              "Validation: 0it [00:00, ?it/s]"
            ]
          },
          "metadata": {},
          "output_type": "display_data"
        },
        {
          "data": {
            "application/vnd.jupyter.widget-view+json": {
              "model_id": "bb4c5104550441a1ad88ad64890b5614",
              "version_major": 2,
              "version_minor": 0
            },
            "text/plain": [
              "Validation: 0it [00:00, ?it/s]"
            ]
          },
          "metadata": {},
          "output_type": "display_data"
        },
        {
          "data": {
            "application/vnd.jupyter.widget-view+json": {
              "model_id": "9c112d8c1bec4e8b8baebecde6a6f079",
              "version_major": 2,
              "version_minor": 0
            },
            "text/plain": [
              "Validation: 0it [00:00, ?it/s]"
            ]
          },
          "metadata": {},
          "output_type": "display_data"
        },
        {
          "data": {
            "application/vnd.jupyter.widget-view+json": {
              "model_id": "bce7ce23de954af9bc93311cb9d87762",
              "version_major": 2,
              "version_minor": 0
            },
            "text/plain": [
              "Validation: 0it [00:00, ?it/s]"
            ]
          },
          "metadata": {},
          "output_type": "display_data"
        },
        {
          "data": {
            "application/vnd.jupyter.widget-view+json": {
              "model_id": "a4261924a49c44f1a6660b96539d74ed",
              "version_major": 2,
              "version_minor": 0
            },
            "text/plain": [
              "Validation: 0it [00:00, ?it/s]"
            ]
          },
          "metadata": {},
          "output_type": "display_data"
        },
        {
          "name": "stdout",
          "output_type": "stream",
          "text": [
            "{'gpt/loss': tensor(6.5488), 'gpt/valid_gpt_loss': tensor(6.5773), 'gpt/train_gpt_loss': tensor(6.5168)}\n",
            "CPU times: total: 34.1 s\n",
            "Wall time: 34 s\n"
          ]
        }
      ],
      "source": [
        "%%time\n",
        "print(f'logger.version = {trainer.logger.version}')\n",
        "trainer.fit(model, train_dl)\n",
        "print(trainer.logged_metrics)"
      ]
    },
    {
      "attachments": {},
      "cell_type": "markdown",
      "id": "c3b2d4fe",
      "metadata": {},
      "source": [
        "### Fine-tuning"
      ]
    },
    {
      "cell_type": "code",
      "execution_count": 23,
      "id": "98379275",
      "metadata": {},
      "outputs": [],
      "source": [
        "model_downstream = NextItemPredictionModule(\n",
        "    trx_encoder=TrxEncoder(**trx_encoder_params), # model.trx_encoder,\n",
        "    seq_encoder=seq_encoder, # model._seq_encoder,\n",
        "    target_col='small_group',\n",
        "    max_lr=0.1\n",
        ")"
      ]
    },
    {
      "cell_type": "code",
      "execution_count": 25,
      "id": "f729fd2e",
      "metadata": {},
      "outputs": [
        {
          "name": "stderr",
          "output_type": "stream",
          "text": [
            "GPU available: True, used: True\n",
            "TPU available: False, using: 0 TPU cores\n",
            "IPU available: False, using: 0 IPUs\n",
            "HPU available: False, using: 0 HPUs\n"
          ]
        }
      ],
      "source": [
        "trainer = pl.Trainer(\n",
        "    max_epochs=100,\n",
        "    gpus=1 if torch.cuda.is_available() else 0,\n",
        "    callbacks=[pl.callbacks.EarlyStopping('gpt/valid_f1_weighted', patience=5, mode='max')],\n",
        "    enable_progress_bar=True,\n",
        ")"
      ]
    },
    {
      "cell_type": "code",
      "execution_count": 26,
      "id": "98dd6c5b",
      "metadata": {},
      "outputs": [
        {
          "name": "stderr",
          "output_type": "stream",
          "text": [
            "LOCAL_RANK: 0 - CUDA_VISIBLE_DEVICES: [0]\n",
            "\n",
            "  | Name           | Type             | Params\n",
            "----------------------------------------------------\n",
            "0 | trx_encoder    | TrxEncoder       | 6.6 K \n",
            "1 | _seq_encoder   | RnnEncoder       | 6.4 K \n",
            "2 | head           | Head             | 24.9 K\n",
            "3 | loss           | CrossEntropyLoss | 0     \n",
            "4 | train_gpt_loss | MeanMetric       | 0     \n",
            "5 | valid_gpt_loss | MeanMetric       | 0     \n",
            "----------------------------------------------------\n",
            "37.8 K    Trainable params\n",
            "0         Non-trainable params\n",
            "37.8 K    Total params\n",
            "0.151     Total estimated model params size (MB)\n"
          ]
        },
        {
          "name": "stdout",
          "output_type": "stream",
          "text": [
            "logger.version = 95\n"
          ]
        },
        {
          "data": {
            "application/vnd.jupyter.widget-view+json": {
              "model_id": "859ff98a65c145e6a933804f02d27fd2",
              "version_major": 2,
              "version_minor": 0
            },
            "text/plain": [
              "Sanity Checking: 0it [00:00, ?it/s]"
            ]
          },
          "metadata": {},
          "output_type": "display_data"
        },
        {
          "name": "stderr",
          "output_type": "stream",
          "text": [
            "c:\\Users\\User\\AppData\\Local\\Programs\\Python\\Python39\\lib\\site-packages\\pytorch_lightning\\trainer\\connectors\\data_connector.py:240: PossibleUserWarning: The dataloader, train_dataloader, does not have many workers which may be a bottleneck. Consider increasing the value of the `num_workers` argument` (try 12 which is the number of cpus on this machine) in the `DataLoader` init to improve performance.\n",
            "  rank_zero_warn(\n",
            "c:\\Users\\User\\AppData\\Local\\Programs\\Python\\Python39\\lib\\site-packages\\pytorch_lightning\\trainer\\trainer.py:1933: PossibleUserWarning: The number of training batches (25) is smaller than the logging interval Trainer(log_every_n_steps=50). Set a lower value for log_every_n_steps if you want to see logs for the training epoch.\n",
            "  rank_zero_warn(\n"
          ]
        },
        {
          "data": {
            "application/vnd.jupyter.widget-view+json": {
              "model_id": "0f603f7ab4724dd597e5899a666a2664",
              "version_major": 2,
              "version_minor": 0
            },
            "text/plain": [
              "Training: 0it [00:00, ?it/s]"
            ]
          },
          "metadata": {},
          "output_type": "display_data"
        },
        {
          "data": {
            "application/vnd.jupyter.widget-view+json": {
              "model_id": "851fcd55475b41ff8af3026c3b9ceec4",
              "version_major": 2,
              "version_minor": 0
            },
            "text/plain": [
              "Validation: 0it [00:00, ?it/s]"
            ]
          },
          "metadata": {},
          "output_type": "display_data"
        },
        {
          "data": {
            "application/vnd.jupyter.widget-view+json": {
              "model_id": "30ad52054ec34cab9e44a714881a9586",
              "version_major": 2,
              "version_minor": 0
            },
            "text/plain": [
              "Validation: 0it [00:00, ?it/s]"
            ]
          },
          "metadata": {},
          "output_type": "display_data"
        },
        {
          "data": {
            "application/vnd.jupyter.widget-view+json": {
              "model_id": "9462f72d5ce342a4aa60746a020c99a5",
              "version_major": 2,
              "version_minor": 0
            },
            "text/plain": [
              "Validation: 0it [00:00, ?it/s]"
            ]
          },
          "metadata": {},
          "output_type": "display_data"
        },
        {
          "data": {
            "application/vnd.jupyter.widget-view+json": {
              "model_id": "39140b95d0f04f85a48643d56e07ea8c",
              "version_major": 2,
              "version_minor": 0
            },
            "text/plain": [
              "Validation: 0it [00:00, ?it/s]"
            ]
          },
          "metadata": {},
          "output_type": "display_data"
        },
        {
          "data": {
            "application/vnd.jupyter.widget-view+json": {
              "model_id": "0a1a0036eb7b49fc9cd5bc85c20b1ad6",
              "version_major": 2,
              "version_minor": 0
            },
            "text/plain": [
              "Validation: 0it [00:00, ?it/s]"
            ]
          },
          "metadata": {},
          "output_type": "display_data"
        },
        {
          "data": {
            "application/vnd.jupyter.widget-view+json": {
              "model_id": "dbd99e30d9114d6bb9df376b611f3b51",
              "version_major": 2,
              "version_minor": 0
            },
            "text/plain": [
              "Validation: 0it [00:00, ?it/s]"
            ]
          },
          "metadata": {},
          "output_type": "display_data"
        },
        {
          "data": {
            "application/vnd.jupyter.widget-view+json": {
              "model_id": "7c978b57b33c48559ce5750decd79e7e",
              "version_major": 2,
              "version_minor": 0
            },
            "text/plain": [
              "Validation: 0it [00:00, ?it/s]"
            ]
          },
          "metadata": {},
          "output_type": "display_data"
        },
        {
          "data": {
            "application/vnd.jupyter.widget-view+json": {
              "model_id": "41c69e55e2af47a58e0b1f7c05779857",
              "version_major": 2,
              "version_minor": 0
            },
            "text/plain": [
              "Validation: 0it [00:00, ?it/s]"
            ]
          },
          "metadata": {},
          "output_type": "display_data"
        },
        {
          "data": {
            "application/vnd.jupyter.widget-view+json": {
              "model_id": "c4ce273dc3b04ecba2c054e1eeb70f83",
              "version_major": 2,
              "version_minor": 0
            },
            "text/plain": [
              "Validation: 0it [00:00, ?it/s]"
            ]
          },
          "metadata": {},
          "output_type": "display_data"
        },
        {
          "data": {
            "application/vnd.jupyter.widget-view+json": {
              "model_id": "addf9f7215f4438f9fb9baed451c308d",
              "version_major": 2,
              "version_minor": 0
            },
            "text/plain": [
              "Validation: 0it [00:00, ?it/s]"
            ]
          },
          "metadata": {},
          "output_type": "display_data"
        },
        {
          "data": {
            "application/vnd.jupyter.widget-view+json": {
              "model_id": "5b76dd8a3ab240c899b296ada284e4c7",
              "version_major": 2,
              "version_minor": 0
            },
            "text/plain": [
              "Validation: 0it [00:00, ?it/s]"
            ]
          },
          "metadata": {},
          "output_type": "display_data"
        },
        {
          "data": {
            "application/vnd.jupyter.widget-view+json": {
              "model_id": "60221435c0a94bb19fb4e4da53ccb5b7",
              "version_major": 2,
              "version_minor": 0
            },
            "text/plain": [
              "Validation: 0it [00:00, ?it/s]"
            ]
          },
          "metadata": {},
          "output_type": "display_data"
        },
        {
          "data": {
            "application/vnd.jupyter.widget-view+json": {
              "model_id": "7cc66fd6a2d04886a590aa9ade8b93f4",
              "version_major": 2,
              "version_minor": 0
            },
            "text/plain": [
              "Validation: 0it [00:00, ?it/s]"
            ]
          },
          "metadata": {},
          "output_type": "display_data"
        },
        {
          "data": {
            "application/vnd.jupyter.widget-view+json": {
              "model_id": "7e4347dad39a4ba587f9b9adff9b3093",
              "version_major": 2,
              "version_minor": 0
            },
            "text/plain": [
              "Validation: 0it [00:00, ?it/s]"
            ]
          },
          "metadata": {},
          "output_type": "display_data"
        },
        {
          "data": {
            "application/vnd.jupyter.widget-view+json": {
              "model_id": "48645106602e47a6a89a6785496e07ca",
              "version_major": 2,
              "version_minor": 0
            },
            "text/plain": [
              "Validation: 0it [00:00, ?it/s]"
            ]
          },
          "metadata": {},
          "output_type": "display_data"
        },
        {
          "data": {
            "application/vnd.jupyter.widget-view+json": {
              "model_id": "111e0035feaf4bdb94de58f6c8238b33",
              "version_major": 2,
              "version_minor": 0
            },
            "text/plain": [
              "Validation: 0it [00:00, ?it/s]"
            ]
          },
          "metadata": {},
          "output_type": "display_data"
        },
        {
          "data": {
            "application/vnd.jupyter.widget-view+json": {
              "model_id": "27e1651751dd4292979c1eb9454e09af",
              "version_major": 2,
              "version_minor": 0
            },
            "text/plain": [
              "Validation: 0it [00:00, ?it/s]"
            ]
          },
          "metadata": {},
          "output_type": "display_data"
        },
        {
          "data": {
            "application/vnd.jupyter.widget-view+json": {
              "model_id": "6ae739d6b2fc4da2b09c7246f4008478",
              "version_major": 2,
              "version_minor": 0
            },
            "text/plain": [
              "Validation: 0it [00:00, ?it/s]"
            ]
          },
          "metadata": {},
          "output_type": "display_data"
        },
        {
          "name": "stdout",
          "output_type": "stream",
          "text": [
            "{'gpt/loss': tensor(2.8688), 'gpt/valid_gpt_loss': tensor(2.8537), 'gpt/valid_f1_weighted': tensor(0.2245, dtype=torch.float64), 'gpt/train_gpt_loss': tensor(2.8514)}\n"
          ]
        }
      ],
      "source": [
        "print(f'logger.version = {trainer.logger.version}')\n",
        "trainer.fit(model_downstream, train_dl)\n",
        "print(trainer.logged_metrics)"
      ]
    },
    {
      "cell_type": "code",
      "execution_count": 27,
      "id": "89598345",
      "metadata": {},
      "outputs": [
        {
          "name": "stderr",
          "output_type": "stream",
          "text": [
            "LOCAL_RANK: 0 - CUDA_VISIBLE_DEVICES: [0]\n",
            "c:\\Users\\User\\AppData\\Local\\Programs\\Python\\Python39\\lib\\site-packages\\pytorch_lightning\\trainer\\connectors\\data_connector.py:240: PossibleUserWarning: The dataloader, test_dataloader 0, does not have many workers which may be a bottleneck. Consider increasing the value of the `num_workers` argument` (try 12 which is the number of cpus on this machine) in the `DataLoader` init to improve performance.\n",
            "  rank_zero_warn(\n"
          ]
        },
        {
          "data": {
            "application/vnd.jupyter.widget-view+json": {
              "model_id": "a505fd86a1fc48c9989a44326aaa3321",
              "version_major": 2,
              "version_minor": 0
            },
            "text/plain": [
              "Testing: 0it [00:00, ?it/s]"
            ]
          },
          "metadata": {},
          "output_type": "display_data"
        },
        {
          "name": "stdout",
          "output_type": "stream",
          "text": [
            "────────────────────────────────────────────────────────────────────────────────────────────────────────────────────────\n",
            "       Test metric             DataLoader 0\n",
            "────────────────────────────────────────────────────────────────────────────────────────────────────────────────────────\n",
            "  gpt/test_f1_weighted      0.2238036663493782\n",
            "────────────────────────────────────────────────────────────────────────────────────────────────────────────────────────\n"
          ]
        },
        {
          "data": {
            "text/plain": [
              "[{'gpt/test_f1_weighted': 0.2238036663493782}]"
            ]
          },
          "execution_count": 27,
          "metadata": {},
          "output_type": "execute_result"
        }
      ],
      "source": [
        "trainer.test(model_downstream, train_dl)"
      ]
    },
    {
      "attachments": {},
      "cell_type": "markdown",
      "id": "df390a86",
      "metadata": {},
      "source": [
        "## Embedding training (contrastive)\n",
        "\n",
        "### Model definition"
      ]
    },
    {
      "cell_type": "code",
      "execution_count": 123,
      "id": "79274426",
      "metadata": {},
      "outputs": [],
      "source": [
        "trx_encoder_params = dict(\n",
        "    embeddings_noise=0.0,\n",
        "    embeddings={\n",
        "        'small_group': {'in': 350, 'out': 16},\n",
        "        'amount_rur_bin':{'in': 11, 'out': 16}\n",
        "    },\n",
        ")\n",
        "\n",
        "seq_encoder = RnnEncoder(\n",
        "        input_size=32,\n",
        "        hidden_size=32,\n",
        "        type='gru',\n",
        ")\n",
        "\n",
        "model = GptPretrainContrastiveModule(\n",
        "    trx_encoder=TrxEncoder(**trx_encoder_params),\n",
        "    seq_encoder=seq_encoder,\n",
        "    max_lr=0.01,\n",
        "    total_steps=10000\n",
        ")\n"
      ]
    },
    {
      "attachments": {},
      "cell_type": "markdown",
      "id": "19835f90",
      "metadata": {},
      "source": [
        "### Trainer"
      ]
    },
    {
      "cell_type": "code",
      "execution_count": 124,
      "id": "f86c0117",
      "metadata": {},
      "outputs": [
        {
          "name": "stderr",
          "output_type": "stream",
          "text": [
            "GPU available: True, used: True\n",
            "TPU available: False, using: 0 TPU cores\n",
            "IPU available: False, using: 0 IPUs\n",
            "HPU available: False, using: 0 HPUs\n"
          ]
        }
      ],
      "source": [
        "trainer = pl.Trainer(\n",
        "    max_epochs=100,\n",
        "    gpus=1 if torch.cuda.is_available() else 0,\n",
        "    callbacks=[pl.callbacks.EarlyStopping('mlm/valid_mlm_loss')],\n",
        "    enable_progress_bar=True,\n",
        ")"
      ]
    },
    {
      "cell_type": "code",
      "execution_count": 125,
      "id": "408038f2",
      "metadata": {},
      "outputs": [
        {
          "name": "stderr",
          "output_type": "stream",
          "text": [
            "LOCAL_RANK: 0 - CUDA_VISIBLE_DEVICES: [0]\n",
            "\n",
            "  | Name            | Type             | Params\n",
            "-----------------------------------------------------\n",
            "0 | trx_encoder     | TrxEncoder       | 5.8 K \n",
            "1 | _seq_encoder    | RnnEncoder       | 6.4 K \n",
            "2 | fn_norm_predict | PBShell          | 0     \n",
            "3 | loss_fn         | QuerySoftmaxLoss | 0     \n",
            "4 | train_mlm_loss  | MeanMetric       | 0     \n",
            "5 | valid_mlm_loss  | MeanMetric       | 0     \n",
            "-----------------------------------------------------\n",
            "12.2 K    Trainable params\n",
            "0         Non-trainable params\n",
            "12.2 K    Total params\n",
            "0.049     Total estimated model params size (MB)\n"
          ]
        },
        {
          "name": "stdout",
          "output_type": "stream",
          "text": [
            "logger.version = 124\n"
          ]
        },
        {
          "data": {
            "application/vnd.jupyter.widget-view+json": {
              "model_id": "9c28083ecb2b4b598883a0111999b367",
              "version_major": 2,
              "version_minor": 0
            },
            "text/plain": [
              "Sanity Checking: 0it [00:00, ?it/s]"
            ]
          },
          "metadata": {},
          "output_type": "display_data"
        },
        {
          "name": "stderr",
          "output_type": "stream",
          "text": [
            "c:\\Users\\User\\AppData\\Local\\Programs\\Python\\Python39\\lib\\site-packages\\pytorch_lightning\\trainer\\connectors\\data_connector.py:240: PossibleUserWarning: The dataloader, train_dataloader, does not have many workers which may be a bottleneck. Consider increasing the value of the `num_workers` argument` (try 12 which is the number of cpus on this machine) in the `DataLoader` init to improve performance.\n",
            "  rank_zero_warn(\n",
            "c:\\Users\\User\\AppData\\Local\\Programs\\Python\\Python39\\lib\\site-packages\\pytorch_lightning\\trainer\\trainer.py:1933: PossibleUserWarning: The number of training batches (25) is smaller than the logging interval Trainer(log_every_n_steps=50). Set a lower value for log_every_n_steps if you want to see logs for the training epoch.\n",
            "  rank_zero_warn(\n"
          ]
        },
        {
          "data": {
            "application/vnd.jupyter.widget-view+json": {
              "model_id": "5c92aa2d146f480894cb0916ecfcd834",
              "version_major": 2,
              "version_minor": 0
            },
            "text/plain": [
              "Training: 0it [00:00, ?it/s]"
            ]
          },
          "metadata": {},
          "output_type": "display_data"
        },
        {
          "data": {
            "application/vnd.jupyter.widget-view+json": {
              "model_id": "de0aca2c200c49798785fcd64a41cd4f",
              "version_major": 2,
              "version_minor": 0
            },
            "text/plain": [
              "Validation: 0it [00:00, ?it/s]"
            ]
          },
          "metadata": {},
          "output_type": "display_data"
        },
        {
          "data": {
            "application/vnd.jupyter.widget-view+json": {
              "model_id": "dd71a784a92c4cfa9576d518690c9cc0",
              "version_major": 2,
              "version_minor": 0
            },
            "text/plain": [
              "Validation: 0it [00:00, ?it/s]"
            ]
          },
          "metadata": {},
          "output_type": "display_data"
        },
        {
          "data": {
            "application/vnd.jupyter.widget-view+json": {
              "model_id": "c8aa9ef1751140da97fe0cbb807beabd",
              "version_major": 2,
              "version_minor": 0
            },
            "text/plain": [
              "Validation: 0it [00:00, ?it/s]"
            ]
          },
          "metadata": {},
          "output_type": "display_data"
        },
        {
          "data": {
            "application/vnd.jupyter.widget-view+json": {
              "model_id": "058ef906b5ec40c3ac05f5485a3f830f",
              "version_major": 2,
              "version_minor": 0
            },
            "text/plain": [
              "Validation: 0it [00:00, ?it/s]"
            ]
          },
          "metadata": {},
          "output_type": "display_data"
        },
        {
          "data": {
            "application/vnd.jupyter.widget-view+json": {
              "model_id": "05e0d8b1e8c34501b1561ada0fde8d16",
              "version_major": 2,
              "version_minor": 0
            },
            "text/plain": [
              "Validation: 0it [00:00, ?it/s]"
            ]
          },
          "metadata": {},
          "output_type": "display_data"
        },
        {
          "data": {
            "application/vnd.jupyter.widget-view+json": {
              "model_id": "b56b6cdb33644e539fcfec6f08f87b51",
              "version_major": 2,
              "version_minor": 0
            },
            "text/plain": [
              "Validation: 0it [00:00, ?it/s]"
            ]
          },
          "metadata": {},
          "output_type": "display_data"
        },
        {
          "data": {
            "application/vnd.jupyter.widget-view+json": {
              "model_id": "6468b1d011184b11aba217942a496e7b",
              "version_major": 2,
              "version_minor": 0
            },
            "text/plain": [
              "Validation: 0it [00:00, ?it/s]"
            ]
          },
          "metadata": {},
          "output_type": "display_data"
        },
        {
          "data": {
            "application/vnd.jupyter.widget-view+json": {
              "model_id": "38b32a654fde4e3cabd044ae4790a5c9",
              "version_major": 2,
              "version_minor": 0
            },
            "text/plain": [
              "Validation: 0it [00:00, ?it/s]"
            ]
          },
          "metadata": {},
          "output_type": "display_data"
        },
        {
          "data": {
            "application/vnd.jupyter.widget-view+json": {
              "model_id": "c8a349a3a893424f81601020bd996b7d",
              "version_major": 2,
              "version_minor": 0
            },
            "text/plain": [
              "Validation: 0it [00:00, ?it/s]"
            ]
          },
          "metadata": {},
          "output_type": "display_data"
        },
        {
          "data": {
            "application/vnd.jupyter.widget-view+json": {
              "model_id": "4a9ab1078da24db5a1a84bf185c3e038",
              "version_major": 2,
              "version_minor": 0
            },
            "text/plain": [
              "Validation: 0it [00:00, ?it/s]"
            ]
          },
          "metadata": {},
          "output_type": "display_data"
        },
        {
          "data": {
            "application/vnd.jupyter.widget-view+json": {
              "model_id": "53b805ba3f234c9c912fed694b6d5cf2",
              "version_major": 2,
              "version_minor": 0
            },
            "text/plain": [
              "Validation: 0it [00:00, ?it/s]"
            ]
          },
          "metadata": {},
          "output_type": "display_data"
        },
        {
          "data": {
            "application/vnd.jupyter.widget-view+json": {
              "model_id": "bbd0ce850fde4043b59108d9a2ebb0c9",
              "version_major": 2,
              "version_minor": 0
            },
            "text/plain": [
              "Validation: 0it [00:00, ?it/s]"
            ]
          },
          "metadata": {},
          "output_type": "display_data"
        },
        {
          "data": {
            "application/vnd.jupyter.widget-view+json": {
              "model_id": "2d9050f2cecb4a1fbb80676d2b76333d",
              "version_major": 2,
              "version_minor": 0
            },
            "text/plain": [
              "Validation: 0it [00:00, ?it/s]"
            ]
          },
          "metadata": {},
          "output_type": "display_data"
        },
        {
          "data": {
            "application/vnd.jupyter.widget-view+json": {
              "model_id": "b757399a0b6741dc8b93ccbe60287284",
              "version_major": 2,
              "version_minor": 0
            },
            "text/plain": [
              "Validation: 0it [00:00, ?it/s]"
            ]
          },
          "metadata": {},
          "output_type": "display_data"
        },
        {
          "data": {
            "application/vnd.jupyter.widget-view+json": {
              "model_id": "c1a4b57df1e54ce7bdfcd896c0505836",
              "version_major": 2,
              "version_minor": 0
            },
            "text/plain": [
              "Validation: 0it [00:00, ?it/s]"
            ]
          },
          "metadata": {},
          "output_type": "display_data"
        },
        {
          "data": {
            "application/vnd.jupyter.widget-view+json": {
              "model_id": "57ba6f5f1b47464bac2ce2cb8662097e",
              "version_major": 2,
              "version_minor": 0
            },
            "text/plain": [
              "Validation: 0it [00:00, ?it/s]"
            ]
          },
          "metadata": {},
          "output_type": "display_data"
        },
        {
          "data": {
            "application/vnd.jupyter.widget-view+json": {
              "model_id": "6cbac142f1ca4e51ad548ec89d56d763",
              "version_major": 2,
              "version_minor": 0
            },
            "text/plain": [
              "Validation: 0it [00:00, ?it/s]"
            ]
          },
          "metadata": {},
          "output_type": "display_data"
        },
        {
          "data": {
            "application/vnd.jupyter.widget-view+json": {
              "model_id": "c987c0f35cb94216b93848ee0ea6fe84",
              "version_major": 2,
              "version_minor": 0
            },
            "text/plain": [
              "Validation: 0it [00:00, ?it/s]"
            ]
          },
          "metadata": {},
          "output_type": "display_data"
        },
        {
          "data": {
            "application/vnd.jupyter.widget-view+json": {
              "model_id": "f56d365e87ff499cb85bb1120ef45af7",
              "version_major": 2,
              "version_minor": 0
            },
            "text/plain": [
              "Validation: 0it [00:00, ?it/s]"
            ]
          },
          "metadata": {},
          "output_type": "display_data"
        },
        {
          "data": {
            "application/vnd.jupyter.widget-view+json": {
              "model_id": "084ea39dfad0466aa5fc960637c7e12f",
              "version_major": 2,
              "version_minor": 0
            },
            "text/plain": [
              "Validation: 0it [00:00, ?it/s]"
            ]
          },
          "metadata": {},
          "output_type": "display_data"
        },
        {
          "data": {
            "application/vnd.jupyter.widget-view+json": {
              "model_id": "d9a371ef69f040c9b5e747b123ef9d66",
              "version_major": 2,
              "version_minor": 0
            },
            "text/plain": [
              "Validation: 0it [00:00, ?it/s]"
            ]
          },
          "metadata": {},
          "output_type": "display_data"
        },
        {
          "data": {
            "application/vnd.jupyter.widget-view+json": {
              "model_id": "99060a59f01a49e090a42329c50f43c3",
              "version_major": 2,
              "version_minor": 0
            },
            "text/plain": [
              "Validation: 0it [00:00, ?it/s]"
            ]
          },
          "metadata": {},
          "output_type": "display_data"
        },
        {
          "data": {
            "application/vnd.jupyter.widget-view+json": {
              "model_id": "09fced3dc226478b993eb696c56ffc94",
              "version_major": 2,
              "version_minor": 0
            },
            "text/plain": [
              "Validation: 0it [00:00, ?it/s]"
            ]
          },
          "metadata": {},
          "output_type": "display_data"
        },
        {
          "data": {
            "application/vnd.jupyter.widget-view+json": {
              "model_id": "4a86802c1dd04bb6905c248d6a5226d3",
              "version_major": 2,
              "version_minor": 0
            },
            "text/plain": [
              "Validation: 0it [00:00, ?it/s]"
            ]
          },
          "metadata": {},
          "output_type": "display_data"
        },
        {
          "data": {
            "application/vnd.jupyter.widget-view+json": {
              "model_id": "e254fc1a22f3449086793d91d202b86a",
              "version_major": 2,
              "version_minor": 0
            },
            "text/plain": [
              "Validation: 0it [00:00, ?it/s]"
            ]
          },
          "metadata": {},
          "output_type": "display_data"
        },
        {
          "data": {
            "application/vnd.jupyter.widget-view+json": {
              "model_id": "36977a88d73b4b4db964f8b80186af72",
              "version_major": 2,
              "version_minor": 0
            },
            "text/plain": [
              "Validation: 0it [00:00, ?it/s]"
            ]
          },
          "metadata": {},
          "output_type": "display_data"
        },
        {
          "data": {
            "application/vnd.jupyter.widget-view+json": {
              "model_id": "aed91f0525664864890bfd1d16596a2d",
              "version_major": 2,
              "version_minor": 0
            },
            "text/plain": [
              "Validation: 0it [00:00, ?it/s]"
            ]
          },
          "metadata": {},
          "output_type": "display_data"
        },
        {
          "data": {
            "application/vnd.jupyter.widget-view+json": {
              "model_id": "d4a5af40afe24a198900ede52dfa2cee",
              "version_major": 2,
              "version_minor": 0
            },
            "text/plain": [
              "Validation: 0it [00:00, ?it/s]"
            ]
          },
          "metadata": {},
          "output_type": "display_data"
        },
        {
          "data": {
            "application/vnd.jupyter.widget-view+json": {
              "model_id": "a62f000eaf9843ae89e8900de24cb842",
              "version_major": 2,
              "version_minor": 0
            },
            "text/plain": [
              "Validation: 0it [00:00, ?it/s]"
            ]
          },
          "metadata": {},
          "output_type": "display_data"
        },
        {
          "data": {
            "application/vnd.jupyter.widget-view+json": {
              "model_id": "24c98aafbe0f4e188f43b8fd982aed64",
              "version_major": 2,
              "version_minor": 0
            },
            "text/plain": [
              "Validation: 0it [00:00, ?it/s]"
            ]
          },
          "metadata": {},
          "output_type": "display_data"
        },
        {
          "data": {
            "application/vnd.jupyter.widget-view+json": {
              "model_id": "089dad35fb184250b6481a533292ebeb",
              "version_major": 2,
              "version_minor": 0
            },
            "text/plain": [
              "Validation: 0it [00:00, ?it/s]"
            ]
          },
          "metadata": {},
          "output_type": "display_data"
        },
        {
          "data": {
            "application/vnd.jupyter.widget-view+json": {
              "model_id": "613c7c9169314ee99a261b2345762b7a",
              "version_major": 2,
              "version_minor": 0
            },
            "text/plain": [
              "Validation: 0it [00:00, ?it/s]"
            ]
          },
          "metadata": {},
          "output_type": "display_data"
        },
        {
          "data": {
            "application/vnd.jupyter.widget-view+json": {
              "model_id": "a939188a32e442ea977bd9b57fff012c",
              "version_major": 2,
              "version_minor": 0
            },
            "text/plain": [
              "Validation: 0it [00:00, ?it/s]"
            ]
          },
          "metadata": {},
          "output_type": "display_data"
        },
        {
          "data": {
            "application/vnd.jupyter.widget-view+json": {
              "model_id": "aeca5a64c14c4f8298534e0207ac199c",
              "version_major": 2,
              "version_minor": 0
            },
            "text/plain": [
              "Validation: 0it [00:00, ?it/s]"
            ]
          },
          "metadata": {},
          "output_type": "display_data"
        },
        {
          "data": {
            "application/vnd.jupyter.widget-view+json": {
              "model_id": "f1931e887e374086be48243edf1e2c6a",
              "version_major": 2,
              "version_minor": 0
            },
            "text/plain": [
              "Validation: 0it [00:00, ?it/s]"
            ]
          },
          "metadata": {},
          "output_type": "display_data"
        },
        {
          "data": {
            "application/vnd.jupyter.widget-view+json": {
              "model_id": "51ff0065b65e4060980e9b793596cc9e",
              "version_major": 2,
              "version_minor": 0
            },
            "text/plain": [
              "Validation: 0it [00:00, ?it/s]"
            ]
          },
          "metadata": {},
          "output_type": "display_data"
        },
        {
          "data": {
            "application/vnd.jupyter.widget-view+json": {
              "model_id": "38f613adba3142d798759e43656de1ac",
              "version_major": 2,
              "version_minor": 0
            },
            "text/plain": [
              "Validation: 0it [00:00, ?it/s]"
            ]
          },
          "metadata": {},
          "output_type": "display_data"
        },
        {
          "name": "stdout",
          "output_type": "stream",
          "text": [
            "{'mlm/loss': tensor(0.5165), 'mlm/valid_mlm_loss': tensor(0.5046), 'mlm/train_mlm_loss': tensor(0.5087)}\n",
            "CPU times: total: 1min 2s\n",
            "Wall time: 1min 4s\n"
          ]
        }
      ],
      "source": [
        "%%time\n",
        "print(f'logger.version = {trainer.logger.version}')\n",
        "trainer.fit(model, train_dl)\n",
        "print(trainer.logged_metrics)"
      ]
    },
    {
      "cell_type": "code",
      "execution_count": 126,
      "id": "6e558f25",
      "metadata": {},
      "outputs": [],
      "source": [
        "model_downstream = NextItemPredictionModule(\n",
        "    trx_encoder=model.trx_encoder, #TrxEncoder(**trx_encoder_params),\n",
        "    seq_encoder=model._seq_encoder, # seq_encoder,\n",
        "    target_col='small_group',\n",
        "    max_lr=0.1,\n",
        "    total_steps=1000\n",
        ")"
      ]
    },
    {
      "cell_type": "code",
      "execution_count": 127,
      "id": "bbddfe97",
      "metadata": {},
      "outputs": [
        {
          "name": "stderr",
          "output_type": "stream",
          "text": [
            "GPU available: True, used: True\n",
            "TPU available: False, using: 0 TPU cores\n",
            "IPU available: False, using: 0 IPUs\n",
            "HPU available: False, using: 0 HPUs\n"
          ]
        }
      ],
      "source": [
        "trainer = pl.Trainer(\n",
        "    max_epochs=100,\n",
        "    gpus=1 if torch.cuda.is_available() else 0,\n",
        "    callbacks=[pl.callbacks.EarlyStopping('gpt/valid_f1_weighted', mode='max', patience=5)],\n",
        "    enable_progress_bar=True,\n",
        ")"
      ]
    },
    {
      "cell_type": "code",
      "execution_count": 128,
      "id": "74eb368f",
      "metadata": {},
      "outputs": [
        {
          "name": "stderr",
          "output_type": "stream",
          "text": [
            "LOCAL_RANK: 0 - CUDA_VISIBLE_DEVICES: [0]\n",
            "\n",
            "  | Name           | Type             | Params\n",
            "----------------------------------------------------\n",
            "0 | trx_encoder    | TrxEncoder       | 5.8 K \n",
            "1 | _seq_encoder   | RnnEncoder       | 6.4 K \n",
            "2 | head           | Head             | 24.9 K\n",
            "3 | loss           | CrossEntropyLoss | 0     \n",
            "4 | train_gpt_loss | MeanMetric       | 0     \n",
            "5 | valid_gpt_loss | MeanMetric       | 0     \n",
            "----------------------------------------------------\n",
            "37.0 K    Trainable params\n",
            "0         Non-trainable params\n",
            "37.0 K    Total params\n",
            "0.148     Total estimated model params size (MB)\n"
          ]
        },
        {
          "name": "stdout",
          "output_type": "stream",
          "text": [
            "logger.version = 125\n"
          ]
        },
        {
          "data": {
            "application/vnd.jupyter.widget-view+json": {
              "model_id": "5443898b33f4411fa338cd1102896aef",
              "version_major": 2,
              "version_minor": 0
            },
            "text/plain": [
              "Sanity Checking: 0it [00:00, ?it/s]"
            ]
          },
          "metadata": {},
          "output_type": "display_data"
        },
        {
          "name": "stderr",
          "output_type": "stream",
          "text": [
            "c:\\Users\\User\\AppData\\Local\\Programs\\Python\\Python39\\lib\\site-packages\\pytorch_lightning\\trainer\\connectors\\data_connector.py:240: PossibleUserWarning: The dataloader, train_dataloader, does not have many workers which may be a bottleneck. Consider increasing the value of the `num_workers` argument` (try 12 which is the number of cpus on this machine) in the `DataLoader` init to improve performance.\n",
            "  rank_zero_warn(\n",
            "c:\\Users\\User\\AppData\\Local\\Programs\\Python\\Python39\\lib\\site-packages\\pytorch_lightning\\trainer\\trainer.py:1933: PossibleUserWarning: The number of training batches (25) is smaller than the logging interval Trainer(log_every_n_steps=50). Set a lower value for log_every_n_steps if you want to see logs for the training epoch.\n",
            "  rank_zero_warn(\n"
          ]
        },
        {
          "data": {
            "application/vnd.jupyter.widget-view+json": {
              "model_id": "f6f40e65e8a14c76909eefc6a29312ba",
              "version_major": 2,
              "version_minor": 0
            },
            "text/plain": [
              "Training: 0it [00:00, ?it/s]"
            ]
          },
          "metadata": {},
          "output_type": "display_data"
        },
        {
          "data": {
            "application/vnd.jupyter.widget-view+json": {
              "model_id": "c29b8b347df946028fc3e6173f81aded",
              "version_major": 2,
              "version_minor": 0
            },
            "text/plain": [
              "Validation: 0it [00:00, ?it/s]"
            ]
          },
          "metadata": {},
          "output_type": "display_data"
        },
        {
          "data": {
            "application/vnd.jupyter.widget-view+json": {
              "model_id": "833d42a04d3d4c1faa9c5f0be4ffd597",
              "version_major": 2,
              "version_minor": 0
            },
            "text/plain": [
              "Validation: 0it [00:00, ?it/s]"
            ]
          },
          "metadata": {},
          "output_type": "display_data"
        },
        {
          "data": {
            "application/vnd.jupyter.widget-view+json": {
              "model_id": "7553f60e3ee34e6ca36d2daf1b335125",
              "version_major": 2,
              "version_minor": 0
            },
            "text/plain": [
              "Validation: 0it [00:00, ?it/s]"
            ]
          },
          "metadata": {},
          "output_type": "display_data"
        },
        {
          "data": {
            "application/vnd.jupyter.widget-view+json": {
              "model_id": "2b6ea80c8eb64641bc0dc588119dd502",
              "version_major": 2,
              "version_minor": 0
            },
            "text/plain": [
              "Validation: 0it [00:00, ?it/s]"
            ]
          },
          "metadata": {},
          "output_type": "display_data"
        },
        {
          "data": {
            "application/vnd.jupyter.widget-view+json": {
              "model_id": "15ebd77c6d1c422b836e30fc38590d40",
              "version_major": 2,
              "version_minor": 0
            },
            "text/plain": [
              "Validation: 0it [00:00, ?it/s]"
            ]
          },
          "metadata": {},
          "output_type": "display_data"
        },
        {
          "data": {
            "application/vnd.jupyter.widget-view+json": {
              "model_id": "11ea7e1cf0df492ba2584d4390d2f786",
              "version_major": 2,
              "version_minor": 0
            },
            "text/plain": [
              "Validation: 0it [00:00, ?it/s]"
            ]
          },
          "metadata": {},
          "output_type": "display_data"
        },
        {
          "data": {
            "application/vnd.jupyter.widget-view+json": {
              "model_id": "205d70de794d48b8bc35cb88fd8217b0",
              "version_major": 2,
              "version_minor": 0
            },
            "text/plain": [
              "Validation: 0it [00:00, ?it/s]"
            ]
          },
          "metadata": {},
          "output_type": "display_data"
        },
        {
          "data": {
            "application/vnd.jupyter.widget-view+json": {
              "model_id": "8f2780ec768249eeaaab5e92d746f160",
              "version_major": 2,
              "version_minor": 0
            },
            "text/plain": [
              "Validation: 0it [00:00, ?it/s]"
            ]
          },
          "metadata": {},
          "output_type": "display_data"
        },
        {
          "data": {
            "application/vnd.jupyter.widget-view+json": {
              "model_id": "82db2183a7214d7ba22e147f087d9ed0",
              "version_major": 2,
              "version_minor": 0
            },
            "text/plain": [
              "Validation: 0it [00:00, ?it/s]"
            ]
          },
          "metadata": {},
          "output_type": "display_data"
        },
        {
          "data": {
            "application/vnd.jupyter.widget-view+json": {
              "model_id": "0f6a2ced6a834de89137f7aebe19b167",
              "version_major": 2,
              "version_minor": 0
            },
            "text/plain": [
              "Validation: 0it [00:00, ?it/s]"
            ]
          },
          "metadata": {},
          "output_type": "display_data"
        },
        {
          "data": {
            "application/vnd.jupyter.widget-view+json": {
              "model_id": "57ccd07033e04924a1302d3e49aa2d2a",
              "version_major": 2,
              "version_minor": 0
            },
            "text/plain": [
              "Validation: 0it [00:00, ?it/s]"
            ]
          },
          "metadata": {},
          "output_type": "display_data"
        },
        {
          "data": {
            "application/vnd.jupyter.widget-view+json": {
              "model_id": "c35cb159af774df89b59ece38c4bef1e",
              "version_major": 2,
              "version_minor": 0
            },
            "text/plain": [
              "Validation: 0it [00:00, ?it/s]"
            ]
          },
          "metadata": {},
          "output_type": "display_data"
        },
        {
          "data": {
            "application/vnd.jupyter.widget-view+json": {
              "model_id": "4f6a46d9cdff4bb4935b25ad71e0c5ac",
              "version_major": 2,
              "version_minor": 0
            },
            "text/plain": [
              "Validation: 0it [00:00, ?it/s]"
            ]
          },
          "metadata": {},
          "output_type": "display_data"
        },
        {
          "name": "stdout",
          "output_type": "stream",
          "text": [
            "{'gpt/loss': tensor(2.8960), 'gpt/valid_gpt_loss': tensor(2.9300), 'gpt/valid_f1_weighted': tensor(0.1933, dtype=torch.float64), 'gpt/train_gpt_loss': tensor(2.9312)}\n"
          ]
        }
      ],
      "source": [
        "print(f'logger.version = {trainer.logger.version}')\n",
        "trainer.fit(model_downstream, train_dl)\n",
        "print(trainer.logged_metrics)"
      ]
    },
    {
      "cell_type": "code",
      "execution_count": 129,
      "id": "ad75a6f3",
      "metadata": {},
      "outputs": [
        {
          "name": "stderr",
          "output_type": "stream",
          "text": [
            "LOCAL_RANK: 0 - CUDA_VISIBLE_DEVICES: [0]\n",
            "c:\\Users\\User\\AppData\\Local\\Programs\\Python\\Python39\\lib\\site-packages\\pytorch_lightning\\trainer\\connectors\\data_connector.py:240: PossibleUserWarning: The dataloader, test_dataloader 0, does not have many workers which may be a bottleneck. Consider increasing the value of the `num_workers` argument` (try 12 which is the number of cpus on this machine) in the `DataLoader` init to improve performance.\n",
            "  rank_zero_warn(\n"
          ]
        },
        {
          "data": {
            "application/vnd.jupyter.widget-view+json": {
              "model_id": "1f3862d06aa4416d8f1ddc409940cad0",
              "version_major": 2,
              "version_minor": 0
            },
            "text/plain": [
              "Testing: 0it [00:00, ?it/s]"
            ]
          },
          "metadata": {},
          "output_type": "display_data"
        },
        {
          "name": "stdout",
          "output_type": "stream",
          "text": [
            "────────────────────────────────────────────────────────────────────────────────────────────────────────────────────────\n",
            "       Test metric             DataLoader 0\n",
            "────────────────────────────────────────────────────────────────────────────────────────────────────────────────────────\n",
            "  gpt/test_f1_weighted      0.1948535026414224\n",
            "────────────────────────────────────────────────────────────────────────────────────────────────────────────────────────\n"
          ]
        },
        {
          "data": {
            "text/plain": [
              "[{'gpt/test_f1_weighted': 0.1948535026414224}]"
            ]
          },
          "execution_count": 129,
          "metadata": {},
          "output_type": "execute_result"
        }
      ],
      "source": [
        "trainer.test(model_downstream, train_dl)"
      ]
    },
    {
      "cell_type": "code",
      "execution_count": 107,
      "id": "988c508d",
      "metadata": {
        "execution": {
          "iopub.execute_input": "2022-05-04T18:12:30.169403Z",
          "iopub.status.busy": "2022-05-04T18:12:30.168916Z",
          "iopub.status.idle": "2022-05-04T18:12:30.240250Z",
          "shell.execute_reply": "2022-05-04T18:12:30.239734Z"
        },
        "id": "988c508d"
      },
      "outputs": [],
      "source": [
        "from ptls.nn import TrxEncoder, RnnEncoder\n",
        "# from ptls.frames.gpt import GptPretrainModule\n",
        "\n",
        "\n",
        "trx_encoder_params = dict(\n",
        "    embeddings_noise=0.0,\n",
        "    # numeric_values={'amount_rur': 'identity'},\n",
        "    embeddings={\n",
        "        # 'trans_date': {'in': 800, 'out': 16},\n",
        "        'small_group': {'in': 350, 'out': 16},\n",
        "        'amount_rur':{'in': 50, 'out': 16}\n",
        "    },\n",
        ")\n",
        "\n",
        "seq_encoder = RnnEncoder(\n",
        "        input_size=32,\n",
        "        hidden_size=32,\n",
        "        type='gru',\n",
        ")\n",
        "\n",
        "# model = GptPretrainModule(\n",
        "#     trx_encoder=TrxEncoder(**trx_encoder_params),\n",
        "#     seq_encoder=seq_encoder,\n",
        "#  #   loss_type='contrast'\n",
        "# )\n",
        "\n",
        "model = MLMPretrainModule(\n",
        "    trx_encoder=TrxEncoder(**trx_encoder_params),\n",
        "    seq_encoder=seq_encoder,\n",
        "    total_steps=30000,\n",
        "    max_lr=1,\n",
        "    neg_count=5,\n",
        "    replace_proba=0.15\n",
        ")"
      ]
    },
    {
      "cell_type": "markdown",
      "id": "87997ac0",
      "metadata": {
        "id": "87997ac0"
      },
      "source": [
        "### Data loader"
      ]
    },
    {
      "cell_type": "code",
      "execution_count": 108,
      "id": "624065bf",
      "metadata": {
        "execution": {
          "iopub.execute_input": "2022-05-04T18:12:30.244098Z",
          "iopub.status.busy": "2022-05-04T18:12:30.243491Z",
          "iopub.status.idle": "2022-05-04T18:12:30.281553Z",
          "shell.execute_reply": "2022-05-04T18:12:30.281940Z"
        },
        "id": "624065bf"
      },
      "outputs": [],
      "source": [
        "from ptls.data_load.datasets import MemoryMapDataset\n",
        "from ptls.data_load.iterable_processing import SeqLenFilter\n",
        "from ptls.frames.gpt import GptDataset\n",
        "from ptls.frames.bert import MlmDataset\n",
        "from ptls.frames import PtlsDataModule\n",
        "\n",
        "\n",
        "# train_dl = PtlsDataModule(\n",
        "#     train_data=GptDataset(\n",
        "#         MemoryMapDataset(\n",
        "#             data=train,\n",
        "#             # i_filters=[\n",
        "#             #     SeqLenFilter(min_seq_len=25),\n",
        "#             # ],\n",
        "#         ),\n",
        "#         min_len=25, \n",
        "#         max_len=300\n",
        "#     ),\n",
        "#     valid_data=GptDataset(\n",
        "#         MemoryMapDataset(\n",
        "#             data=test,\n",
        "#             # i_filters=[\n",
        "#             #     SeqLenFilter(min_seq_len=25),\n",
        "#             # ],\n",
        "#         ),\n",
        "#         min_len=25, \n",
        "#         max_len=300\n",
        "#     ),\n",
        "#     train_batch_size=128,\n",
        "# )\n",
        "\n",
        "train_dl = PtlsDataModule(\n",
        "    train_data=MlmDataset(\n",
        "        MemoryMapDataset(\n",
        "            data=train,\n",
        "            i_filters=[\n",
        "                SeqLenFilter(min_seq_len=25),\n",
        "            ],\n",
        "        ),\n",
        "        min_len=25, \n",
        "        max_len=300\n",
        "    ),\n",
        "    valid_data=MlmDataset(\n",
        "        MemoryMapDataset(\n",
        "            data=test,\n",
        "            i_filters=[\n",
        "                SeqLenFilter(min_seq_len=25),\n",
        "            ],\n",
        "        ),\n",
        "        min_len=25, \n",
        "        max_len=300\n",
        "    ),\n",
        "    train_batch_size=64,\n",
        ")"
      ]
    },
    {
      "cell_type": "markdown",
      "id": "fc9a09be",
      "metadata": {
        "id": "fc9a09be"
      },
      "source": [
        "### Trainer"
      ]
    },
    {
      "cell_type": "code",
      "execution_count": 109,
      "id": "8fdbb67d",
      "metadata": {
        "colab": {
          "base_uri": "https://localhost:8080/"
        },
        "execution": {
          "iopub.execute_input": "2022-05-04T18:12:30.285432Z",
          "iopub.status.busy": "2022-05-04T18:12:30.284949Z",
          "iopub.status.idle": "2022-05-04T18:12:30.325745Z",
          "shell.execute_reply": "2022-05-04T18:12:30.325312Z"
        },
        "id": "8fdbb67d",
        "outputId": "c39d04da-3688-4ad9-e8c4-2a129545f701"
      },
      "outputs": [
        {
          "name": "stderr",
          "output_type": "stream",
          "text": [
            "GPU available: True, used: False\n",
            "TPU available: False, using: 0 TPU cores\n",
            "IPU available: False, using: 0 IPUs\n",
            "HPU available: False, using: 0 HPUs\n",
            "c:\\Users\\User\\AppData\\Local\\Programs\\Python\\Python39\\lib\\site-packages\\pytorch_lightning\\trainer\\trainer.py:1814: PossibleUserWarning: GPU available but not used. Set `accelerator` and `devices` using `Trainer(accelerator='gpu', devices=1)`.\n",
            "  rank_zero_warn(\n"
          ]
        }
      ],
      "source": [
        "import torch\n",
        "import pytorch_lightning as pl\n",
        "\n",
        "import logging\n",
        "\n",
        "trainer = pl.Trainer(\n",
        "    max_epochs=100,\n",
        "    gpus=1 if torch.cuda.is_available() else 0,\n",
        "    enable_progress_bar=True,\n",
        "    accelerator='cpu'\n",
        ")"
      ]
    },
    {
      "cell_type": "markdown",
      "id": "a88078a3",
      "metadata": {
        "id": "a88078a3"
      },
      "source": [
        "### Training "
      ]
    },
    {
      "cell_type": "code",
      "execution_count": 110,
      "id": "f40877df",
      "metadata": {
        "colab": {
          "base_uri": "https://localhost:8080/",
          "height": 451,
          "referenced_widgets": [
            "4088def909e74f22bcc436cc085258eb",
            "13b81a84efd14fbca304ef954cc6cd52",
            "b51eba065e59489c8e10277644661b26",
            "f5ac443da88b4bbd965d956c4274cf26",
            "285efa1b04ef48a2bd5f68f4bddd6726",
            "51eade651ea94b269a4c50c6617c555f",
            "a99f18b281484db4830eb727313e1d5f",
            "dd49373af6d841b8a013ced02d75818b",
            "276448eb91ce45e8ba71d3af80a6425c",
            "a46a71f7b9ee4207813dd7ea4604ae86",
            "ba82e6d3825144c9b92c945b757ffa49"
          ]
        },
        "execution": {
          "iopub.execute_input": "2022-05-04T18:12:30.328969Z",
          "iopub.status.busy": "2022-05-04T18:12:30.328486Z",
          "iopub.status.idle": "2022-05-04T18:23:09.969669Z",
          "shell.execute_reply": "2022-05-04T18:23:09.969186Z"
        },
        "id": "f40877df",
        "outputId": "26fdf0b9-e357-44ac-e990-55efeb3b0078"
      },
      "outputs": [
        {
          "name": "stderr",
          "output_type": "stream",
          "text": [
            "\n",
            "  | Name            | Type             | Params\n",
            "-----------------------------------------------------\n",
            "0 | trx_encoder     | TrxEncoder       | 6.4 K \n",
            "1 | _seq_encoder    | RnnEncoder       | 6.4 K \n",
            "2 | fn_norm_predict | PBShell          | 0     \n",
            "3 | loss_fn         | QuerySoftmaxLoss | 0     \n",
            "4 | train_mlm_loss  | MeanMetric       | 0     \n",
            "5 | valid_mlm_loss  | MeanMetric       | 0     \n",
            "-----------------------------------------------------\n",
            "12.8 K    Trainable params\n",
            "0         Non-trainable params\n",
            "12.8 K    Total params\n",
            "0.051     Total estimated model params size (MB)\n"
          ]
        },
        {
          "name": "stdout",
          "output_type": "stream",
          "text": [
            "logger.version = 97\n"
          ]
        },
        {
          "data": {
            "application/vnd.jupyter.widget-view+json": {
              "model_id": "b0b1172febcc4d69b8a36e89fa7e83fa",
              "version_major": 2,
              "version_minor": 0
            },
            "text/plain": [
              "Sanity Checking: 0it [00:00, ?it/s]"
            ]
          },
          "metadata": {},
          "output_type": "display_data"
        },
        {
          "name": "stderr",
          "output_type": "stream",
          "text": [
            "c:\\Users\\User\\AppData\\Local\\Programs\\Python\\Python39\\lib\\site-packages\\pytorch_lightning\\trainer\\connectors\\data_connector.py:240: PossibleUserWarning: The dataloader, val_dataloader 0, does not have many workers which may be a bottleneck. Consider increasing the value of the `num_workers` argument` (try 12 which is the number of cpus on this machine) in the `DataLoader` init to improve performance.\n",
            "  rank_zero_warn(\n",
            "c:\\Users\\User\\AppData\\Local\\Programs\\Python\\Python39\\lib\\site-packages\\pytorch_lightning\\trainer\\connectors\\data_connector.py:240: PossibleUserWarning: The dataloader, train_dataloader, does not have many workers which may be a bottleneck. Consider increasing the value of the `num_workers` argument` (try 12 which is the number of cpus on this machine) in the `DataLoader` init to improve performance.\n",
            "  rank_zero_warn(\n"
          ]
        },
        {
          "data": {
            "application/vnd.jupyter.widget-view+json": {
              "model_id": "03321768642d40138a5a1bd7e898baff",
              "version_major": 2,
              "version_minor": 0
            },
            "text/plain": [
              "Training: 0it [00:00, ?it/s]"
            ]
          },
          "metadata": {},
          "output_type": "display_data"
        },
        {
          "data": {
            "application/vnd.jupyter.widget-view+json": {
              "model_id": "f15e49eed44e45f3a3cd882cfecb169f",
              "version_major": 2,
              "version_minor": 0
            },
            "text/plain": [
              "Validation: 0it [00:00, ?it/s]"
            ]
          },
          "metadata": {},
          "output_type": "display_data"
        },
        {
          "data": {
            "application/vnd.jupyter.widget-view+json": {
              "model_id": "f764593f6f794c89b584bfeb6561e66b",
              "version_major": 2,
              "version_minor": 0
            },
            "text/plain": [
              "Validation: 0it [00:00, ?it/s]"
            ]
          },
          "metadata": {},
          "output_type": "display_data"
        },
        {
          "data": {
            "application/vnd.jupyter.widget-view+json": {
              "model_id": "d2e238a1919448ab8cbaf1932b8cb258",
              "version_major": 2,
              "version_minor": 0
            },
            "text/plain": [
              "Validation: 0it [00:00, ?it/s]"
            ]
          },
          "metadata": {},
          "output_type": "display_data"
        },
        {
          "data": {
            "application/vnd.jupyter.widget-view+json": {
              "model_id": "a400c174c19e4cd4acde3efaf33247e1",
              "version_major": 2,
              "version_minor": 0
            },
            "text/plain": [
              "Validation: 0it [00:00, ?it/s]"
            ]
          },
          "metadata": {},
          "output_type": "display_data"
        },
        {
          "data": {
            "application/vnd.jupyter.widget-view+json": {
              "model_id": "f40ab27753a94387adbc377f333730c6",
              "version_major": 2,
              "version_minor": 0
            },
            "text/plain": [
              "Validation: 0it [00:00, ?it/s]"
            ]
          },
          "metadata": {},
          "output_type": "display_data"
        },
        {
          "data": {
            "application/vnd.jupyter.widget-view+json": {
              "model_id": "03362ad7030c4360aeefdf3237a199b8",
              "version_major": 2,
              "version_minor": 0
            },
            "text/plain": [
              "Validation: 0it [00:00, ?it/s]"
            ]
          },
          "metadata": {},
          "output_type": "display_data"
        },
        {
          "data": {
            "application/vnd.jupyter.widget-view+json": {
              "model_id": "e95b7e87519e43dcae448a079874a196",
              "version_major": 2,
              "version_minor": 0
            },
            "text/plain": [
              "Validation: 0it [00:00, ?it/s]"
            ]
          },
          "metadata": {},
          "output_type": "display_data"
        },
        {
          "data": {
            "application/vnd.jupyter.widget-view+json": {
              "model_id": "6f5d7d7d76c946fbbc36d6e737199313",
              "version_major": 2,
              "version_minor": 0
            },
            "text/plain": [
              "Validation: 0it [00:00, ?it/s]"
            ]
          },
          "metadata": {},
          "output_type": "display_data"
        },
        {
          "data": {
            "application/vnd.jupyter.widget-view+json": {
              "model_id": "f8d7d10ccf3d4c76bcdc86e6f994118d",
              "version_major": 2,
              "version_minor": 0
            },
            "text/plain": [
              "Validation: 0it [00:00, ?it/s]"
            ]
          },
          "metadata": {},
          "output_type": "display_data"
        },
        {
          "data": {
            "application/vnd.jupyter.widget-view+json": {
              "model_id": "dedf1778f3ad44819534902fb0750419",
              "version_major": 2,
              "version_minor": 0
            },
            "text/plain": [
              "Validation: 0it [00:00, ?it/s]"
            ]
          },
          "metadata": {},
          "output_type": "display_data"
        },
        {
          "data": {
            "application/vnd.jupyter.widget-view+json": {
              "model_id": "5f1826a7226f4b2d906442f999994fa4",
              "version_major": 2,
              "version_minor": 0
            },
            "text/plain": [
              "Validation: 0it [00:00, ?it/s]"
            ]
          },
          "metadata": {},
          "output_type": "display_data"
        },
        {
          "name": "stdout",
          "output_type": "stream",
          "text": [
            "{'mlm/loss': tensor(1.4308), 'mlm/valid_mlm_loss': tensor(1.4440), 'mlm/train_mlm_loss': tensor(1.4410)}\n",
            "CPU times: total: 6min 8s\n",
            "Wall time: 3min 19s\n"
          ]
        },
        {
          "name": "stderr",
          "output_type": "stream",
          "text": [
            "c:\\Users\\User\\AppData\\Local\\Programs\\Python\\Python39\\lib\\site-packages\\pytorch_lightning\\trainer\\trainer.py:726: UserWarning: Detected KeyboardInterrupt, attempting graceful shutdown...\n",
            "  rank_zero_warn(\"Detected KeyboardInterrupt, attempting graceful shutdown...\")\n"
          ]
        }
      ],
      "source": [
        "%%time\n",
        "print(f'logger.version = {trainer.logger.version}')\n",
        "trainer.fit(model, train_dl)\n",
        "print(trainer.logged_metrics)"
      ]
    },
    {
      "cell_type": "markdown",
      "id": "7aaa35bc",
      "metadata": {
        "id": "7aaa35bc"
      },
      "source": [
        "### Save sequence encoder for other experiments"
      ]
    },
    {
      "cell_type": "markdown",
      "id": "d6d4c390",
      "metadata": {},
      "source": []
    },
    {
      "cell_type": "code",
      "execution_count": null,
      "id": "50b76d62",
      "metadata": {
        "id": "50b76d62"
      },
      "outputs": [],
      "source": [
        "torch.save(seq_encoder.state_dict(), \"coles-emb.pt\")"
      ]
    }
  ],
  "metadata": {
    "colab": {
      "provenance": []
    },
    "kernelspec": {
      "display_name": "Python 3",
      "language": "python",
      "name": "python3"
    },
    "language_info": {
      "codemirror_mode": {
        "name": "ipython",
        "version": 3
      },
      "file_extension": ".py",
      "mimetype": "text/x-python",
      "name": "python",
      "nbconvert_exporter": "python",
      "pygments_lexer": "ipython3",
      "version": "3.9.13"
    },
    "vscode": {
      "interpreter": {
        "hash": "cf92aa13fedf815d5c8dd192b8d835913fde3e8bc926b2a0ad6cc74ef2ba3ca2"
      }
    },
    "widgets": {
      "application/vnd.jupyter.widget-state+json": {
        "13b81a84efd14fbca304ef954cc6cd52": {
          "model_module": "@jupyter-widgets/controls",
          "model_module_version": "1.5.0",
          "model_name": "HTMLModel",
          "state": {
            "_dom_classes": [],
            "_model_module": "@jupyter-widgets/controls",
            "_model_module_version": "1.5.0",
            "_model_name": "HTMLModel",
            "_view_count": null,
            "_view_module": "@jupyter-widgets/controls",
            "_view_module_version": "1.5.0",
            "_view_name": "HTMLView",
            "description": "",
            "description_tooltip": null,
            "layout": "IPY_MODEL_51eade651ea94b269a4c50c6617c555f",
            "placeholder": "​",
            "style": "IPY_MODEL_a99f18b281484db4830eb727313e1d5f",
            "value": "Epoch 13:  57%"
          }
        },
        "276448eb91ce45e8ba71d3af80a6425c": {
          "model_module": "@jupyter-widgets/controls",
          "model_module_version": "1.5.0",
          "model_name": "ProgressStyleModel",
          "state": {
            "_model_module": "@jupyter-widgets/controls",
            "_model_module_version": "1.5.0",
            "_model_name": "ProgressStyleModel",
            "_view_count": null,
            "_view_module": "@jupyter-widgets/base",
            "_view_module_version": "1.2.0",
            "_view_name": "StyleView",
            "bar_color": null,
            "description_width": ""
          }
        },
        "285efa1b04ef48a2bd5f68f4bddd6726": {
          "model_module": "@jupyter-widgets/base",
          "model_module_version": "1.2.0",
          "model_name": "LayoutModel",
          "state": {
            "_model_module": "@jupyter-widgets/base",
            "_model_module_version": "1.2.0",
            "_model_name": "LayoutModel",
            "_view_count": null,
            "_view_module": "@jupyter-widgets/base",
            "_view_module_version": "1.2.0",
            "_view_name": "LayoutView",
            "align_content": null,
            "align_items": null,
            "align_self": null,
            "border": null,
            "bottom": null,
            "display": "inline-flex",
            "flex": null,
            "flex_flow": "row wrap",
            "grid_area": null,
            "grid_auto_columns": null,
            "grid_auto_flow": null,
            "grid_auto_rows": null,
            "grid_column": null,
            "grid_gap": null,
            "grid_row": null,
            "grid_template_areas": null,
            "grid_template_columns": null,
            "grid_template_rows": null,
            "height": null,
            "justify_content": null,
            "justify_items": null,
            "left": null,
            "margin": null,
            "max_height": null,
            "max_width": null,
            "min_height": null,
            "min_width": null,
            "object_fit": null,
            "object_position": null,
            "order": null,
            "overflow": null,
            "overflow_x": null,
            "overflow_y": null,
            "padding": null,
            "right": null,
            "top": null,
            "visibility": null,
            "width": "100%"
          }
        },
        "4088def909e74f22bcc436cc085258eb": {
          "model_module": "@jupyter-widgets/controls",
          "model_module_version": "1.5.0",
          "model_name": "HBoxModel",
          "state": {
            "_dom_classes": [],
            "_model_module": "@jupyter-widgets/controls",
            "_model_module_version": "1.5.0",
            "_model_name": "HBoxModel",
            "_view_count": null,
            "_view_module": "@jupyter-widgets/controls",
            "_view_module_version": "1.5.0",
            "_view_name": "HBoxView",
            "box_style": "",
            "children": [
              "IPY_MODEL_13b81a84efd14fbca304ef954cc6cd52",
              "IPY_MODEL_b51eba065e59489c8e10277644661b26",
              "IPY_MODEL_f5ac443da88b4bbd965d956c4274cf26"
            ],
            "layout": "IPY_MODEL_285efa1b04ef48a2bd5f68f4bddd6726"
          }
        },
        "51eade651ea94b269a4c50c6617c555f": {
          "model_module": "@jupyter-widgets/base",
          "model_module_version": "1.2.0",
          "model_name": "LayoutModel",
          "state": {
            "_model_module": "@jupyter-widgets/base",
            "_model_module_version": "1.2.0",
            "_model_name": "LayoutModel",
            "_view_count": null,
            "_view_module": "@jupyter-widgets/base",
            "_view_module_version": "1.2.0",
            "_view_name": "LayoutView",
            "align_content": null,
            "align_items": null,
            "align_self": null,
            "border": null,
            "bottom": null,
            "display": null,
            "flex": null,
            "flex_flow": null,
            "grid_area": null,
            "grid_auto_columns": null,
            "grid_auto_flow": null,
            "grid_auto_rows": null,
            "grid_column": null,
            "grid_gap": null,
            "grid_row": null,
            "grid_template_areas": null,
            "grid_template_columns": null,
            "grid_template_rows": null,
            "height": null,
            "justify_content": null,
            "justify_items": null,
            "left": null,
            "margin": null,
            "max_height": null,
            "max_width": null,
            "min_height": null,
            "min_width": null,
            "object_fit": null,
            "object_position": null,
            "order": null,
            "overflow": null,
            "overflow_x": null,
            "overflow_y": null,
            "padding": null,
            "right": null,
            "top": null,
            "visibility": null,
            "width": null
          }
        },
        "a46a71f7b9ee4207813dd7ea4604ae86": {
          "model_module": "@jupyter-widgets/base",
          "model_module_version": "1.2.0",
          "model_name": "LayoutModel",
          "state": {
            "_model_module": "@jupyter-widgets/base",
            "_model_module_version": "1.2.0",
            "_model_name": "LayoutModel",
            "_view_count": null,
            "_view_module": "@jupyter-widgets/base",
            "_view_module_version": "1.2.0",
            "_view_name": "LayoutView",
            "align_content": null,
            "align_items": null,
            "align_self": null,
            "border": null,
            "bottom": null,
            "display": null,
            "flex": null,
            "flex_flow": null,
            "grid_area": null,
            "grid_auto_columns": null,
            "grid_auto_flow": null,
            "grid_auto_rows": null,
            "grid_column": null,
            "grid_gap": null,
            "grid_row": null,
            "grid_template_areas": null,
            "grid_template_columns": null,
            "grid_template_rows": null,
            "height": null,
            "justify_content": null,
            "justify_items": null,
            "left": null,
            "margin": null,
            "max_height": null,
            "max_width": null,
            "min_height": null,
            "min_width": null,
            "object_fit": null,
            "object_position": null,
            "order": null,
            "overflow": null,
            "overflow_x": null,
            "overflow_y": null,
            "padding": null,
            "right": null,
            "top": null,
            "visibility": null,
            "width": null
          }
        },
        "a99f18b281484db4830eb727313e1d5f": {
          "model_module": "@jupyter-widgets/controls",
          "model_module_version": "1.5.0",
          "model_name": "DescriptionStyleModel",
          "state": {
            "_model_module": "@jupyter-widgets/controls",
            "_model_module_version": "1.5.0",
            "_model_name": "DescriptionStyleModel",
            "_view_count": null,
            "_view_module": "@jupyter-widgets/base",
            "_view_module_version": "1.2.0",
            "_view_name": "StyleView",
            "description_width": ""
          }
        },
        "b51eba065e59489c8e10277644661b26": {
          "model_module": "@jupyter-widgets/controls",
          "model_module_version": "1.5.0",
          "model_name": "FloatProgressModel",
          "state": {
            "_dom_classes": [],
            "_model_module": "@jupyter-widgets/controls",
            "_model_module_version": "1.5.0",
            "_model_name": "FloatProgressModel",
            "_view_count": null,
            "_view_module": "@jupyter-widgets/controls",
            "_view_module_version": "1.5.0",
            "_view_name": "ProgressView",
            "bar_style": "",
            "description": "",
            "description_tooltip": null,
            "layout": "IPY_MODEL_dd49373af6d841b8a013ced02d75818b",
            "max": 94,
            "min": 0,
            "orientation": "horizontal",
            "style": "IPY_MODEL_276448eb91ce45e8ba71d3af80a6425c",
            "value": 54
          }
        },
        "ba82e6d3825144c9b92c945b757ffa49": {
          "model_module": "@jupyter-widgets/controls",
          "model_module_version": "1.5.0",
          "model_name": "DescriptionStyleModel",
          "state": {
            "_model_module": "@jupyter-widgets/controls",
            "_model_module_version": "1.5.0",
            "_model_name": "DescriptionStyleModel",
            "_view_count": null,
            "_view_module": "@jupyter-widgets/base",
            "_view_module_version": "1.2.0",
            "_view_name": "StyleView",
            "description_width": ""
          }
        },
        "dd49373af6d841b8a013ced02d75818b": {
          "model_module": "@jupyter-widgets/base",
          "model_module_version": "1.2.0",
          "model_name": "LayoutModel",
          "state": {
            "_model_module": "@jupyter-widgets/base",
            "_model_module_version": "1.2.0",
            "_model_name": "LayoutModel",
            "_view_count": null,
            "_view_module": "@jupyter-widgets/base",
            "_view_module_version": "1.2.0",
            "_view_name": "LayoutView",
            "align_content": null,
            "align_items": null,
            "align_self": null,
            "border": null,
            "bottom": null,
            "display": null,
            "flex": "2",
            "flex_flow": null,
            "grid_area": null,
            "grid_auto_columns": null,
            "grid_auto_flow": null,
            "grid_auto_rows": null,
            "grid_column": null,
            "grid_gap": null,
            "grid_row": null,
            "grid_template_areas": null,
            "grid_template_columns": null,
            "grid_template_rows": null,
            "height": null,
            "justify_content": null,
            "justify_items": null,
            "left": null,
            "margin": null,
            "max_height": null,
            "max_width": null,
            "min_height": null,
            "min_width": null,
            "object_fit": null,
            "object_position": null,
            "order": null,
            "overflow": null,
            "overflow_x": null,
            "overflow_y": null,
            "padding": null,
            "right": null,
            "top": null,
            "visibility": null,
            "width": null
          }
        },
        "f5ac443da88b4bbd965d956c4274cf26": {
          "model_module": "@jupyter-widgets/controls",
          "model_module_version": "1.5.0",
          "model_name": "HTMLModel",
          "state": {
            "_dom_classes": [],
            "_model_module": "@jupyter-widgets/controls",
            "_model_module_version": "1.5.0",
            "_model_name": "HTMLModel",
            "_view_count": null,
            "_view_module": "@jupyter-widgets/controls",
            "_view_module_version": "1.5.0",
            "_view_name": "HTMLView",
            "description": "",
            "description_tooltip": null,
            "layout": "IPY_MODEL_a46a71f7b9ee4207813dd7ea4604ae86",
            "placeholder": "​",
            "style": "IPY_MODEL_ba82e6d3825144c9b92c945b757ffa49",
            "value": " 54/94 [01:07&lt;00:50,  1.26s/it, loss=12.1, v_num=3]"
          }
        }
      }
    }
  },
  "nbformat": 4,
  "nbformat_minor": 5
}
